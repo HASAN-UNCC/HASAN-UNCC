{
 "cells": [
  {
   "cell_type": "code",
   "execution_count": 2,
   "id": "3aff0b54-d128-4311-8f7e-0ce933815f4b",
   "metadata": {},
   "outputs": [],
   "source": [
    "import numpy as np\n",
    "import pandas as pd\n",
    "import matplotlib.pyplot as plt\n",
    "import seaborn as sns\n",
    "import sklearn"
   ]
  },
  {
   "cell_type": "code",
   "execution_count": 35,
   "id": "38593aab-03fe-4101-8663-c53003d5ed2f",
   "metadata": {},
   "outputs": [
    {
     "data": {
      "text/html": [
       "<div>\n",
       "<style scoped>\n",
       "    .dataframe tbody tr th:only-of-type {\n",
       "        vertical-align: middle;\n",
       "    }\n",
       "\n",
       "    .dataframe tbody tr th {\n",
       "        vertical-align: top;\n",
       "    }\n",
       "\n",
       "    .dataframe thead th {\n",
       "        text-align: right;\n",
       "    }\n",
       "</style>\n",
       "<table border=\"1\" class=\"dataframe\">\n",
       "  <thead>\n",
       "    <tr style=\"text-align: right;\">\n",
       "      <th></th>\n",
       "      <th>price</th>\n",
       "      <th>area</th>\n",
       "      <th>bedrooms</th>\n",
       "      <th>bathrooms</th>\n",
       "      <th>stories</th>\n",
       "      <th>mainroad</th>\n",
       "      <th>guestroom</th>\n",
       "      <th>basement</th>\n",
       "      <th>hotwaterheating</th>\n",
       "      <th>airconditioning</th>\n",
       "      <th>parking</th>\n",
       "      <th>prefarea</th>\n",
       "      <th>furnishingstatus</th>\n",
       "    </tr>\n",
       "  </thead>\n",
       "  <tbody>\n",
       "    <tr>\n",
       "      <th>0</th>\n",
       "      <td>13300000</td>\n",
       "      <td>7420</td>\n",
       "      <td>4</td>\n",
       "      <td>2</td>\n",
       "      <td>3</td>\n",
       "      <td>yes</td>\n",
       "      <td>no</td>\n",
       "      <td>no</td>\n",
       "      <td>no</td>\n",
       "      <td>yes</td>\n",
       "      <td>2</td>\n",
       "      <td>yes</td>\n",
       "      <td>furnished</td>\n",
       "    </tr>\n",
       "    <tr>\n",
       "      <th>1</th>\n",
       "      <td>12250000</td>\n",
       "      <td>8960</td>\n",
       "      <td>4</td>\n",
       "      <td>4</td>\n",
       "      <td>4</td>\n",
       "      <td>yes</td>\n",
       "      <td>no</td>\n",
       "      <td>no</td>\n",
       "      <td>no</td>\n",
       "      <td>yes</td>\n",
       "      <td>3</td>\n",
       "      <td>no</td>\n",
       "      <td>furnished</td>\n",
       "    </tr>\n",
       "    <tr>\n",
       "      <th>2</th>\n",
       "      <td>12250000</td>\n",
       "      <td>9960</td>\n",
       "      <td>3</td>\n",
       "      <td>2</td>\n",
       "      <td>2</td>\n",
       "      <td>yes</td>\n",
       "      <td>no</td>\n",
       "      <td>yes</td>\n",
       "      <td>no</td>\n",
       "      <td>no</td>\n",
       "      <td>2</td>\n",
       "      <td>yes</td>\n",
       "      <td>semi-furnished</td>\n",
       "    </tr>\n",
       "    <tr>\n",
       "      <th>3</th>\n",
       "      <td>12215000</td>\n",
       "      <td>7500</td>\n",
       "      <td>4</td>\n",
       "      <td>2</td>\n",
       "      <td>2</td>\n",
       "      <td>yes</td>\n",
       "      <td>no</td>\n",
       "      <td>yes</td>\n",
       "      <td>no</td>\n",
       "      <td>yes</td>\n",
       "      <td>3</td>\n",
       "      <td>yes</td>\n",
       "      <td>furnished</td>\n",
       "    </tr>\n",
       "    <tr>\n",
       "      <th>4</th>\n",
       "      <td>11410000</td>\n",
       "      <td>7420</td>\n",
       "      <td>4</td>\n",
       "      <td>1</td>\n",
       "      <td>2</td>\n",
       "      <td>yes</td>\n",
       "      <td>yes</td>\n",
       "      <td>yes</td>\n",
       "      <td>no</td>\n",
       "      <td>yes</td>\n",
       "      <td>2</td>\n",
       "      <td>no</td>\n",
       "      <td>furnished</td>\n",
       "    </tr>\n",
       "  </tbody>\n",
       "</table>\n",
       "</div>"
      ],
      "text/plain": [
       "      price  area  bedrooms  bathrooms  stories mainroad guestroom basement  \\\n",
       "0  13300000  7420         4          2        3      yes        no       no   \n",
       "1  12250000  8960         4          4        4      yes        no       no   \n",
       "2  12250000  9960         3          2        2      yes        no      yes   \n",
       "3  12215000  7500         4          2        2      yes        no      yes   \n",
       "4  11410000  7420         4          1        2      yes       yes      yes   \n",
       "\n",
       "  hotwaterheating airconditioning  parking prefarea furnishingstatus  \n",
       "0              no             yes        2      yes        furnished  \n",
       "1              no             yes        3       no        furnished  \n",
       "2              no              no        2      yes   semi-furnished  \n",
       "3              no             yes        3      yes        furnished  \n",
       "4              no             yes        2       no        furnished  "
      ]
     },
     "execution_count": 35,
     "metadata": {},
     "output_type": "execute_result"
    }
   ],
   "source": [
    "housing = pd.DataFrame(pd.read_csv(\"Housing.csv\"))\n",
    "housing.head()"
   ]
  },
  {
   "cell_type": "code",
   "execution_count": 4,
   "id": "3a10835a-faa4-4b34-9e9c-e07bbc589973",
   "metadata": {},
   "outputs": [
    {
     "data": {
      "text/plain": [
       "545"
      ]
     },
     "execution_count": 4,
     "metadata": {},
     "output_type": "execute_result"
    }
   ],
   "source": [
    "m = len(housing)\n",
    "m"
   ]
  },
  {
   "cell_type": "code",
   "execution_count": 5,
   "id": "edbffe9e-bae8-442d-a1a7-891599ed52c6",
   "metadata": {},
   "outputs": [
    {
     "data": {
      "text/plain": [
       "(545, 13)"
      ]
     },
     "execution_count": 5,
     "metadata": {},
     "output_type": "execute_result"
    }
   ],
   "source": [
    "housing.shape"
   ]
  },
  {
   "cell_type": "code",
   "execution_count": 36,
   "id": "2ea964fd-fa2d-418e-84e7-4ea73e423d35",
   "metadata": {},
   "outputs": [
    {
     "data": {
      "text/html": [
       "<div>\n",
       "<style scoped>\n",
       "    .dataframe tbody tr th:only-of-type {\n",
       "        vertical-align: middle;\n",
       "    }\n",
       "\n",
       "    .dataframe tbody tr th {\n",
       "        vertical-align: top;\n",
       "    }\n",
       "\n",
       "    .dataframe thead th {\n",
       "        text-align: right;\n",
       "    }\n",
       "</style>\n",
       "<table border=\"1\" class=\"dataframe\">\n",
       "  <thead>\n",
       "    <tr style=\"text-align: right;\">\n",
       "      <th></th>\n",
       "      <th>price</th>\n",
       "      <th>area</th>\n",
       "      <th>bedrooms</th>\n",
       "      <th>bathrooms</th>\n",
       "      <th>stories</th>\n",
       "      <th>mainroad</th>\n",
       "      <th>guestroom</th>\n",
       "      <th>basement</th>\n",
       "      <th>hotwaterheating</th>\n",
       "      <th>airconditioning</th>\n",
       "      <th>parking</th>\n",
       "      <th>prefarea</th>\n",
       "      <th>furnishingstatus</th>\n",
       "    </tr>\n",
       "  </thead>\n",
       "  <tbody>\n",
       "    <tr>\n",
       "      <th>0</th>\n",
       "      <td>13300000</td>\n",
       "      <td>7420</td>\n",
       "      <td>4</td>\n",
       "      <td>2</td>\n",
       "      <td>3</td>\n",
       "      <td>1</td>\n",
       "      <td>0</td>\n",
       "      <td>0</td>\n",
       "      <td>0</td>\n",
       "      <td>1</td>\n",
       "      <td>2</td>\n",
       "      <td>1</td>\n",
       "      <td>furnished</td>\n",
       "    </tr>\n",
       "    <tr>\n",
       "      <th>1</th>\n",
       "      <td>12250000</td>\n",
       "      <td>8960</td>\n",
       "      <td>4</td>\n",
       "      <td>4</td>\n",
       "      <td>4</td>\n",
       "      <td>1</td>\n",
       "      <td>0</td>\n",
       "      <td>0</td>\n",
       "      <td>0</td>\n",
       "      <td>1</td>\n",
       "      <td>3</td>\n",
       "      <td>0</td>\n",
       "      <td>furnished</td>\n",
       "    </tr>\n",
       "    <tr>\n",
       "      <th>2</th>\n",
       "      <td>12250000</td>\n",
       "      <td>9960</td>\n",
       "      <td>3</td>\n",
       "      <td>2</td>\n",
       "      <td>2</td>\n",
       "      <td>1</td>\n",
       "      <td>0</td>\n",
       "      <td>1</td>\n",
       "      <td>0</td>\n",
       "      <td>0</td>\n",
       "      <td>2</td>\n",
       "      <td>1</td>\n",
       "      <td>semi-furnished</td>\n",
       "    </tr>\n",
       "    <tr>\n",
       "      <th>3</th>\n",
       "      <td>12215000</td>\n",
       "      <td>7500</td>\n",
       "      <td>4</td>\n",
       "      <td>2</td>\n",
       "      <td>2</td>\n",
       "      <td>1</td>\n",
       "      <td>0</td>\n",
       "      <td>1</td>\n",
       "      <td>0</td>\n",
       "      <td>1</td>\n",
       "      <td>3</td>\n",
       "      <td>1</td>\n",
       "      <td>furnished</td>\n",
       "    </tr>\n",
       "    <tr>\n",
       "      <th>4</th>\n",
       "      <td>11410000</td>\n",
       "      <td>7420</td>\n",
       "      <td>4</td>\n",
       "      <td>1</td>\n",
       "      <td>2</td>\n",
       "      <td>1</td>\n",
       "      <td>1</td>\n",
       "      <td>1</td>\n",
       "      <td>0</td>\n",
       "      <td>1</td>\n",
       "      <td>2</td>\n",
       "      <td>0</td>\n",
       "      <td>furnished</td>\n",
       "    </tr>\n",
       "  </tbody>\n",
       "</table>\n",
       "</div>"
      ],
      "text/plain": [
       "      price  area  bedrooms  bathrooms  stories  mainroad  guestroom  \\\n",
       "0  13300000  7420         4          2        3         1          0   \n",
       "1  12250000  8960         4          4        4         1          0   \n",
       "2  12250000  9960         3          2        2         1          0   \n",
       "3  12215000  7500         4          2        2         1          0   \n",
       "4  11410000  7420         4          1        2         1          1   \n",
       "\n",
       "   basement  hotwaterheating  airconditioning  parking  prefarea  \\\n",
       "0         0                0                1        2         1   \n",
       "1         0                0                1        3         0   \n",
       "2         1                0                0        2         1   \n",
       "3         1                0                1        3         1   \n",
       "4         1                0                1        2         0   \n",
       "\n",
       "  furnishingstatus  \n",
       "0        furnished  \n",
       "1        furnished  \n",
       "2   semi-furnished  \n",
       "3        furnished  \n",
       "4        furnished  "
      ]
     },
     "execution_count": 36,
     "metadata": {},
     "output_type": "execute_result"
    }
   ],
   "source": [
    "varlist = ['mainroad', 'guestroom', 'basement', 'hotwaterheating', 'airconditioning', 'prefarea']\n",
    "\n",
    "# Defining the map function\n",
    "def binary_map(x):\n",
    "    return x.map({'yes': 1, \"no\": 0})\n",
    "\n",
    "# Applying the function to the housing list\n",
    "housing[varlist] = housing[varlist].apply(binary_map)\n",
    "           \n",
    "# Check the housing dataframe now\n",
    "housing.head()"
   ]
  },
  {
   "cell_type": "code",
   "execution_count": 37,
   "id": "608f6150-1084-407e-bc18-df084f617660",
   "metadata": {},
   "outputs": [
    {
     "data": {
      "text/plain": [
       "(436, 13)"
      ]
     },
     "execution_count": 37,
     "metadata": {},
     "output_type": "execute_result"
    }
   ],
   "source": [
    "#Splitting the Data into Training and Testing Sets\n",
    "from sklearn.model_selection import train_test_split\n",
    "np.random.seed(0)\n",
    "df_train, df_test = train_test_split(housing, train_size = 0.8, test_size = 0.2, random_state = 100)\n",
    "\n",
    "df_train.shape"
   ]
  },
  {
   "cell_type": "code",
   "execution_count": 38,
   "id": "f4977aeb-7870-4d9c-8f1c-b8e7f2745c73",
   "metadata": {},
   "outputs": [
    {
     "data": {
      "text/plain": [
       "(109, 13)"
      ]
     },
     "execution_count": 38,
     "metadata": {},
     "output_type": "execute_result"
    }
   ],
   "source": [
    "df_test.shape"
   ]
  },
  {
   "cell_type": "code",
   "execution_count": 39,
   "id": "b695b2e8-fab3-4496-bffa-92b3e3617358",
   "metadata": {},
   "outputs": [
    {
     "data": {
      "text/html": [
       "<div>\n",
       "<style scoped>\n",
       "    .dataframe tbody tr th:only-of-type {\n",
       "        vertical-align: middle;\n",
       "    }\n",
       "\n",
       "    .dataframe tbody tr th {\n",
       "        vertical-align: top;\n",
       "    }\n",
       "\n",
       "    .dataframe thead th {\n",
       "        text-align: right;\n",
       "    }\n",
       "</style>\n",
       "<table border=\"1\" class=\"dataframe\">\n",
       "  <thead>\n",
       "    <tr style=\"text-align: right;\">\n",
       "      <th></th>\n",
       "      <th>area</th>\n",
       "      <th>bedrooms</th>\n",
       "      <th>bathrooms</th>\n",
       "      <th>stories</th>\n",
       "      <th>parking</th>\n",
       "      <th>price</th>\n",
       "    </tr>\n",
       "  </thead>\n",
       "  <tbody>\n",
       "    <tr>\n",
       "      <th>22</th>\n",
       "      <td>8050</td>\n",
       "      <td>3</td>\n",
       "      <td>1</td>\n",
       "      <td>1</td>\n",
       "      <td>1</td>\n",
       "      <td>8645000</td>\n",
       "    </tr>\n",
       "    <tr>\n",
       "      <th>41</th>\n",
       "      <td>6360</td>\n",
       "      <td>3</td>\n",
       "      <td>2</td>\n",
       "      <td>4</td>\n",
       "      <td>0</td>\n",
       "      <td>7840000</td>\n",
       "    </tr>\n",
       "    <tr>\n",
       "      <th>91</th>\n",
       "      <td>6750</td>\n",
       "      <td>2</td>\n",
       "      <td>1</td>\n",
       "      <td>1</td>\n",
       "      <td>2</td>\n",
       "      <td>6419000</td>\n",
       "    </tr>\n",
       "    <tr>\n",
       "      <th>118</th>\n",
       "      <td>6420</td>\n",
       "      <td>3</td>\n",
       "      <td>1</td>\n",
       "      <td>1</td>\n",
       "      <td>0</td>\n",
       "      <td>5950000</td>\n",
       "    </tr>\n",
       "    <tr>\n",
       "      <th>472</th>\n",
       "      <td>3630</td>\n",
       "      <td>4</td>\n",
       "      <td>1</td>\n",
       "      <td>2</td>\n",
       "      <td>3</td>\n",
       "      <td>3010000</td>\n",
       "    </tr>\n",
       "  </tbody>\n",
       "</table>\n",
       "</div>"
      ],
      "text/plain": [
       "     area  bedrooms  bathrooms  stories  parking    price\n",
       "22   8050         3          1        1        1  8645000\n",
       "41   6360         3          2        4        0  7840000\n",
       "91   6750         2          1        1        2  6419000\n",
       "118  6420         3          1        1        0  5950000\n",
       "472  3630         4          1        2        3  3010000"
      ]
     },
     "execution_count": 39,
     "metadata": {},
     "output_type": "execute_result"
    }
   ],
   "source": [
    "num_vars = ['area', 'bedrooms', 'bathrooms', 'stories', 'parking','price']\n",
    "df_Newtrain = df_train[num_vars]\n",
    "df_Newtest = df_test[num_vars]\n",
    "df_Newtrain.head()"
   ]
  },
  {
   "cell_type": "code",
   "execution_count": 40,
   "id": "cece3ad1-059a-42f9-92eb-6a090c56b8c3",
   "metadata": {},
   "outputs": [
    {
     "data": {
      "text/plain": [
       "(436, 6)"
      ]
     },
     "execution_count": 40,
     "metadata": {},
     "output_type": "execute_result"
    }
   ],
   "source": [
    "df_Newtrain.shape"
   ]
  },
  {
   "cell_type": "code",
   "execution_count": 41,
   "id": "03788a5d-bd69-46a9-8d8f-b8571fc415f1",
   "metadata": {},
   "outputs": [],
   "source": [
    "y_Newtrain = df_Newtrain.pop('price')\n",
    "X_Newtrain = df_Newtrain"
   ]
  },
  {
   "cell_type": "code",
   "execution_count": 43,
   "id": "ba4d4f55-c010-4ca7-9b7d-02ffd7d72fdd",
   "metadata": {},
   "outputs": [
    {
     "data": {
      "text/html": [
       "<div>\n",
       "<style scoped>\n",
       "    .dataframe tbody tr th:only-of-type {\n",
       "        vertical-align: middle;\n",
       "    }\n",
       "\n",
       "    .dataframe tbody tr th {\n",
       "        vertical-align: top;\n",
       "    }\n",
       "\n",
       "    .dataframe thead th {\n",
       "        text-align: right;\n",
       "    }\n",
       "</style>\n",
       "<table border=\"1\" class=\"dataframe\">\n",
       "  <thead>\n",
       "    <tr style=\"text-align: right;\">\n",
       "      <th></th>\n",
       "      <th>area</th>\n",
       "      <th>bedrooms</th>\n",
       "      <th>bathrooms</th>\n",
       "      <th>stories</th>\n",
       "      <th>parking</th>\n",
       "    </tr>\n",
       "  </thead>\n",
       "  <tbody>\n",
       "    <tr>\n",
       "      <th>22</th>\n",
       "      <td>8050</td>\n",
       "      <td>3</td>\n",
       "      <td>1</td>\n",
       "      <td>1</td>\n",
       "      <td>1</td>\n",
       "    </tr>\n",
       "    <tr>\n",
       "      <th>41</th>\n",
       "      <td>6360</td>\n",
       "      <td>3</td>\n",
       "      <td>2</td>\n",
       "      <td>4</td>\n",
       "      <td>0</td>\n",
       "    </tr>\n",
       "    <tr>\n",
       "      <th>91</th>\n",
       "      <td>6750</td>\n",
       "      <td>2</td>\n",
       "      <td>1</td>\n",
       "      <td>1</td>\n",
       "      <td>2</td>\n",
       "    </tr>\n",
       "    <tr>\n",
       "      <th>118</th>\n",
       "      <td>6420</td>\n",
       "      <td>3</td>\n",
       "      <td>1</td>\n",
       "      <td>1</td>\n",
       "      <td>0</td>\n",
       "    </tr>\n",
       "    <tr>\n",
       "      <th>472</th>\n",
       "      <td>3630</td>\n",
       "      <td>4</td>\n",
       "      <td>1</td>\n",
       "      <td>2</td>\n",
       "      <td>3</td>\n",
       "    </tr>\n",
       "  </tbody>\n",
       "</table>\n",
       "</div>"
      ],
      "text/plain": [
       "     area  bedrooms  bathrooms  stories  parking\n",
       "22   8050         3          1        1        1\n",
       "41   6360         3          2        4        0\n",
       "91   6750         2          1        1        2\n",
       "118  6420         3          1        1        0\n",
       "472  3630         4          1        2        3"
      ]
     },
     "execution_count": 43,
     "metadata": {},
     "output_type": "execute_result"
    }
   ],
   "source": [
    "X_Newtrain.head()"
   ]
  },
  {
   "cell_type": "code",
   "execution_count": 44,
   "id": "9b423d5f-6675-41c6-8abb-1523d39ef9e8",
   "metadata": {},
   "outputs": [
    {
     "data": {
      "text/plain": [
       "22     8645000\n",
       "41     7840000\n",
       "91     6419000\n",
       "118    5950000\n",
       "472    3010000\n",
       "Name: price, dtype: int64"
      ]
     },
     "execution_count": 44,
     "metadata": {},
     "output_type": "execute_result"
    }
   ],
   "source": [
    "y_Newtrain.head()"
   ]
  },
  {
   "cell_type": "code",
   "execution_count": 45,
   "id": "6eeb02c7-ffb6-433c-93ed-08520e4cfee4",
   "metadata": {},
   "outputs": [
    {
     "name": "stdout",
     "output_type": "stream",
     "text": [
      "y =  [ 8645000  7840000  6419000  5950000  3010000  3850000 12250000  4480000\n",
      "  5110000  4319000]\n"
     ]
    }
   ],
   "source": [
    "y = y_Newtrain.values\n",
    "print('y = ', y[: 10])"
   ]
  },
  {
   "cell_type": "code",
   "execution_count": 46,
   "id": "79e61575-9ab4-4167-be00-2160d9aa7165",
   "metadata": {},
   "outputs": [],
   "source": [
    "X1 = df_Newtrain.values[:, 0]       \n",
    "X2 = df_Newtrain.values[:, 1]               \n",
    "X3 = df_Newtrain.values[:, 2]              \n",
    "X4 = df_Newtrain.values[:, 3]               \n",
    "X5 = df_Newtrain.values[:, 4]   "
   ]
  },
  {
   "cell_type": "code",
   "execution_count": 47,
   "id": "4b7ba034-8713-42c4-8208-0c1d1702acd0",
   "metadata": {},
   "outputs": [
    {
     "data": {
      "text/plain": [
       "array([[1.],\n",
       "       [1.],\n",
       "       [1.],\n",
       "       [1.],\n",
       "       [1.]])"
      ]
     },
     "execution_count": 47,
     "metadata": {},
     "output_type": "execute_result"
    }
   ],
   "source": [
    "m = len(X_Newtrain)         # size of training set\n",
    "X_0 = np.ones((m, 1))        \n",
    "X_0 [: 5]"
   ]
  },
  {
   "cell_type": "code",
   "execution_count": 48,
   "id": "d6e6f84b-1021-4f84-81ff-a0b9d303e334",
   "metadata": {},
   "outputs": [],
   "source": [
    "X_1 = X1.reshape(m, 1)\n",
    "X_2 = X2.reshape(m, 1)\n",
    "X_3 = X3.reshape(m, 1)\n",
    "X_4 = X4.reshape(m, 1)\n",
    "X_5 = X5.reshape(m, 1)"
   ]
  },
  {
   "cell_type": "code",
   "execution_count": 18,
   "id": "77c7e0e8-0213-4bcf-b003-781d381d08c8",
   "metadata": {},
   "outputs": [
    {
     "data": {
      "text/plain": [
       "array([[1.00e+00, 8.05e+03, 3.00e+00, 1.00e+00, 1.00e+00, 1.00e+00],\n",
       "       [1.00e+00, 6.36e+03, 3.00e+00, 2.00e+00, 4.00e+00, 0.00e+00],\n",
       "       [1.00e+00, 6.75e+03, 2.00e+00, 1.00e+00, 1.00e+00, 2.00e+00],\n",
       "       [1.00e+00, 6.42e+03, 3.00e+00, 1.00e+00, 1.00e+00, 0.00e+00],\n",
       "       [1.00e+00, 3.63e+03, 4.00e+00, 1.00e+00, 2.00e+00, 3.00e+00]])"
      ]
     },
     "execution_count": 18,
     "metadata": {},
     "output_type": "execute_result"
    }
   ],
   "source": [
    "X = np.hstack((X_0, X_1, X_2, X_3, X_4, X_5))\n",
    "X [: 5]"
   ]
  },
  {
   "cell_type": "code",
   "execution_count": 49,
   "id": "673c1741-69da-48a6-8dca-afc50c291926",
   "metadata": {},
   "outputs": [
    {
     "data": {
      "text/plain": [
       "array([0., 0., 0., 0., 0., 0.])"
      ]
     },
     "execution_count": 49,
     "metadata": {},
     "output_type": "execute_result"
    }
   ],
   "source": [
    "theta = np.zeros(6)\n",
    "theta"
   ]
  },
  {
   "cell_type": "code",
   "execution_count": 50,
   "id": "c510f4db-c55b-4bba-92de-1f409606613b",
   "metadata": {},
   "outputs": [],
   "source": [
    "y_Newtest = df_Newtest.pop('price')\n",
    "X_Newtest = df_Newtest"
   ]
  },
  {
   "cell_type": "code",
   "execution_count": 51,
   "id": "6367fd7e-bd1d-4b02-867a-7efd065a24c4",
   "metadata": {},
   "outputs": [
    {
     "data": {
      "text/html": [
       "<div>\n",
       "<style scoped>\n",
       "    .dataframe tbody tr th:only-of-type {\n",
       "        vertical-align: middle;\n",
       "    }\n",
       "\n",
       "    .dataframe tbody tr th {\n",
       "        vertical-align: top;\n",
       "    }\n",
       "\n",
       "    .dataframe thead th {\n",
       "        text-align: right;\n",
       "    }\n",
       "</style>\n",
       "<table border=\"1\" class=\"dataframe\">\n",
       "  <thead>\n",
       "    <tr style=\"text-align: right;\">\n",
       "      <th></th>\n",
       "      <th>area</th>\n",
       "      <th>bedrooms</th>\n",
       "      <th>bathrooms</th>\n",
       "      <th>stories</th>\n",
       "      <th>parking</th>\n",
       "    </tr>\n",
       "  </thead>\n",
       "  <tbody>\n",
       "    <tr>\n",
       "      <th>265</th>\n",
       "      <td>2880</td>\n",
       "      <td>3</td>\n",
       "      <td>1</td>\n",
       "      <td>2</td>\n",
       "      <td>0</td>\n",
       "    </tr>\n",
       "    <tr>\n",
       "      <th>54</th>\n",
       "      <td>6000</td>\n",
       "      <td>3</td>\n",
       "      <td>2</td>\n",
       "      <td>2</td>\n",
       "      <td>1</td>\n",
       "    </tr>\n",
       "    <tr>\n",
       "      <th>171</th>\n",
       "      <td>10269</td>\n",
       "      <td>3</td>\n",
       "      <td>1</td>\n",
       "      <td>1</td>\n",
       "      <td>1</td>\n",
       "    </tr>\n",
       "    <tr>\n",
       "      <th>244</th>\n",
       "      <td>5320</td>\n",
       "      <td>3</td>\n",
       "      <td>1</td>\n",
       "      <td>2</td>\n",
       "      <td>0</td>\n",
       "    </tr>\n",
       "    <tr>\n",
       "      <th>268</th>\n",
       "      <td>4950</td>\n",
       "      <td>4</td>\n",
       "      <td>1</td>\n",
       "      <td>2</td>\n",
       "      <td>0</td>\n",
       "    </tr>\n",
       "  </tbody>\n",
       "</table>\n",
       "</div>"
      ],
      "text/plain": [
       "      area  bedrooms  bathrooms  stories  parking\n",
       "265   2880         3          1        2        0\n",
       "54    6000         3          2        2        1\n",
       "171  10269         3          1        1        1\n",
       "244   5320         3          1        2        0\n",
       "268   4950         4          1        2        0"
      ]
     },
     "execution_count": 51,
     "metadata": {},
     "output_type": "execute_result"
    }
   ],
   "source": [
    "X_Newtest.head()"
   ]
  },
  {
   "cell_type": "code",
   "execution_count": 52,
   "id": "895229b7-692a-4dd9-a0fd-72705d92daa2",
   "metadata": {},
   "outputs": [
    {
     "data": {
      "text/plain": [
       "265    4403000\n",
       "54     7350000\n",
       "171    5250000\n",
       "244    4550000\n",
       "268    4382000\n",
       "Name: price, dtype: int64"
      ]
     },
     "execution_count": 52,
     "metadata": {},
     "output_type": "execute_result"
    }
   ],
   "source": [
    "y_Newtest.head()"
   ]
  },
  {
   "cell_type": "code",
   "execution_count": 53,
   "id": "87b5b97a-f56f-4489-8c7c-c567d4ae535d",
   "metadata": {},
   "outputs": [
    {
     "name": "stdout",
     "output_type": "stream",
     "text": [
      "y_test =  [4403000 7350000 5250000 4550000 4382000 4690000 8540000 5250000 2730000\n",
      " 5950000]\n"
     ]
    }
   ],
   "source": [
    "y_test = y_Newtest.values\n",
    "print('y_test = ', y_test[: 10])"
   ]
  },
  {
   "cell_type": "code",
   "execution_count": 64,
   "id": "75ba9cd2-334d-4039-b03e-932c98f06742",
   "metadata": {},
   "outputs": [],
   "source": [
    "# preparing the testing/validation set\n",
    "X1_test = df_Newtest.values[:, 0]                 \n",
    "X2_test = df_Newtest.values[:, 1]                 \n",
    "X3_test = df_Newtest.values[:, 2]                \n",
    "X4_test = df_Newtest.values[:, 3]               \n",
    "X5_test = df_Newtest.values[:, 4]     "
   ]
  },
  {
   "cell_type": "code",
   "execution_count": 55,
   "id": "a5ce21af-7c2c-4c11-a117-c5faa38105ce",
   "metadata": {},
   "outputs": [
    {
     "data": {
      "text/plain": [
       "array([[1.],\n",
       "       [1.],\n",
       "       [1.],\n",
       "       [1.],\n",
       "       [1.]])"
      ]
     },
     "execution_count": 55,
     "metadata": {},
     "output_type": "execute_result"
    }
   ],
   "source": [
    "m_test = len(X_Newtest)             # size of validation set\n",
    "X_0_test = np.ones((m_test, 1))     \n",
    "X_0_test [: 5]"
   ]
  },
  {
   "cell_type": "code",
   "execution_count": 56,
   "id": "178dd78e-83c5-49ae-9492-abf5d5ee4ddc",
   "metadata": {},
   "outputs": [],
   "source": [
    "X_1_test = X1_test.reshape(m_test, 1)\n",
    "X_2_test = X2_test.reshape(m_test, 1)\n",
    "X_3_test = X3_test.reshape(m_test, 1)\n",
    "X_4_test = X4_test.reshape(m_test, 1)\n",
    "X_5_test = X5_test.reshape(m_test, 1)"
   ]
  },
  {
   "cell_type": "code",
   "execution_count": 65,
   "id": "97f556e0-a25e-4eb8-94cc-fb3fccfacca2",
   "metadata": {},
   "outputs": [
    {
     "data": {
      "text/plain": [
       "array([[1.0000e+00, 2.8800e+03, 3.0000e+00, 1.0000e+00, 2.0000e+00,\n",
       "        0.0000e+00],\n",
       "       [1.0000e+00, 6.0000e+03, 3.0000e+00, 2.0000e+00, 2.0000e+00,\n",
       "        1.0000e+00],\n",
       "       [1.0000e+00, 1.0269e+04, 3.0000e+00, 1.0000e+00, 1.0000e+00,\n",
       "        1.0000e+00],\n",
       "       [1.0000e+00, 5.3200e+03, 3.0000e+00, 1.0000e+00, 2.0000e+00,\n",
       "        0.0000e+00],\n",
       "       [1.0000e+00, 4.9500e+03, 4.0000e+00, 1.0000e+00, 2.0000e+00,\n",
       "        0.0000e+00]])"
      ]
     },
     "execution_count": 65,
     "metadata": {},
     "output_type": "execute_result"
    }
   ],
   "source": [
    "# Stacking X_0_test through X_5_test horizontally\n",
    "# This is the final X Matrix for validation\n",
    "X_test = np.hstack((X_0_test, X_1_test, X_2_test, X_3_test, X_4_test, X_5_test))\n",
    "X_test [: 5]"
   ]
  },
  {
   "cell_type": "code",
   "execution_count": 58,
   "id": "1c328950-1b2e-4225-8d77-644fb1523842",
   "metadata": {},
   "outputs": [],
   "source": [
    "# defining function for computing the cost for linear regression\n",
    "\n",
    "def compute_cost(X, y, theta, m):\n",
    "    predictions = X.dot(theta)\n",
    "    errors = np.subtract(predictions, y)\n",
    "    sqrErrors = np.square(errors)\n",
    "    J = 1 / (2 * m) * np.sum(sqrErrors)\n",
    "    return J"
   ]
  },
  {
   "cell_type": "code",
   "execution_count": 59,
   "id": "144908ba-566e-4711-8b58-4c0e4962e54f",
   "metadata": {},
   "outputs": [
    {
     "data": {
      "text/plain": [
       "13238799902211.697"
      ]
     },
     "execution_count": 59,
     "metadata": {},
     "output_type": "execute_result"
    }
   ],
   "source": [
    "# computing the cost for initial theta values\n",
    "\n",
    "cost = compute_cost(X, y, theta, m)\n",
    "cost"
   ]
  },
  {
   "cell_type": "code",
   "execution_count": 60,
   "id": "306a5610-cecd-44cb-bfdd-e197348b7d7c",
   "metadata": {},
   "outputs": [],
   "source": [
    "# gradient descent algorithm\n",
    "\n",
    "def gradient_descent(X, y, theta, alpha, iterations):\n",
    "    cost_history = np.zeros(iterations)\n",
    "    cost_test = np.zeros(iterations)\n",
    "    for i in range(iterations):\n",
    "        predictions = X.dot(theta)\n",
    "        errors = np.subtract(predictions, y)\n",
    "        sum_delta = (alpha / m) * X.transpose().dot(errors);\n",
    "        theta = theta - sum_delta;\n",
    "        cost_history[i] = compute_cost(X, y, theta, m)                     # loss for training set\n",
    "        cost_test[i] = compute_cost(X_test, y_test, theta, m_test)         # loss for validation set\n",
    "    \n",
    "    return theta, cost_history, cost_test"
   ]
  },
  {
   "cell_type": "code",
   "execution_count": 70,
   "id": "d5f7bf54-56a9-4ced-aa3e-94b032dccaf8",
   "metadata": {},
   "outputs": [],
   "source": [
    "theta = [0., 0., 0., 0., 0., 0.]\n",
    "iterations = 200;\n",
    "alpha = 0.02"
   ]
  },
  {
   "cell_type": "code",
   "execution_count": 62,
   "id": "e94b415e-e500-4bd6-b95c-e687d9a82f5e",
   "metadata": {},
   "outputs": [
    {
     "name": "stdout",
     "output_type": "stream",
     "text": [
      "Final value of theta= [8.64439254e-01 8.61911801e+02 3.15030737e+00 1.78128988e+00\n",
      " 2.71025030e+00 6.85780628e-01]\n",
      "cost_history = [7.17395258e+12 4.29408729e+12 2.92659628e+12 2.27724935e+12\n",
      " 1.96890988e+12 1.82249626e+12 1.75297240e+12 1.71995928e+12\n",
      " 1.70428313e+12 1.69683936e+12 1.69330470e+12 1.69162626e+12\n",
      " 1.69082923e+12 1.69045075e+12 1.69027101e+12 1.69018563e+12\n",
      " 1.69014507e+12 1.69012579e+12 1.69011661e+12 1.69011223e+12\n",
      " 1.69011013e+12 1.69010911e+12 1.69010860e+12 1.69010834e+12\n",
      " 1.69010820e+12 1.69010810e+12 1.69010804e+12 1.69010798e+12\n",
      " 1.69010794e+12 1.69010789e+12 1.69010785e+12 1.69010781e+12\n",
      " 1.69010776e+12 1.69010772e+12 1.69010768e+12 1.69010764e+12\n",
      " 1.69010760e+12 1.69010755e+12 1.69010751e+12 1.69010747e+12\n",
      " 1.69010743e+12 1.69010739e+12 1.69010735e+12 1.69010730e+12\n",
      " 1.69010726e+12 1.69010722e+12 1.69010718e+12 1.69010714e+12\n",
      " 1.69010709e+12 1.69010705e+12 1.69010701e+12 1.69010697e+12\n",
      " 1.69010693e+12 1.69010688e+12 1.69010684e+12 1.69010680e+12\n",
      " 1.69010676e+12 1.69010672e+12 1.69010667e+12 1.69010663e+12\n",
      " 1.69010659e+12 1.69010655e+12 1.69010651e+12 1.69010646e+12\n",
      " 1.69010642e+12 1.69010638e+12 1.69010634e+12 1.69010630e+12\n",
      " 1.69010625e+12 1.69010621e+12 1.69010617e+12 1.69010613e+12\n",
      " 1.69010609e+12 1.69010604e+12 1.69010600e+12 1.69010596e+12\n",
      " 1.69010592e+12 1.69010588e+12 1.69010583e+12 1.69010579e+12\n",
      " 1.69010575e+12 1.69010571e+12 1.69010567e+12 1.69010562e+12\n",
      " 1.69010558e+12 1.69010554e+12 1.69010550e+12 1.69010546e+12\n",
      " 1.69010541e+12 1.69010537e+12 1.69010533e+12 1.69010529e+12\n",
      " 1.69010525e+12 1.69010520e+12 1.69010516e+12 1.69010512e+12\n",
      " 1.69010508e+12 1.69010504e+12 1.69010499e+12 1.69010495e+12\n",
      " 1.69010491e+12 1.69010487e+12 1.69010483e+12 1.69010478e+12\n",
      " 1.69010474e+12 1.69010470e+12 1.69010466e+12 1.69010462e+12\n",
      " 1.69010458e+12 1.69010453e+12 1.69010449e+12 1.69010445e+12\n",
      " 1.69010441e+12 1.69010437e+12 1.69010432e+12 1.69010428e+12\n",
      " 1.69010424e+12 1.69010420e+12 1.69010416e+12 1.69010411e+12\n",
      " 1.69010407e+12 1.69010403e+12 1.69010399e+12 1.69010395e+12\n",
      " 1.69010390e+12 1.69010386e+12 1.69010382e+12 1.69010378e+12\n",
      " 1.69010374e+12 1.69010369e+12 1.69010365e+12 1.69010361e+12\n",
      " 1.69010357e+12 1.69010353e+12 1.69010348e+12 1.69010344e+12\n",
      " 1.69010340e+12 1.69010336e+12 1.69010332e+12 1.69010327e+12\n",
      " 1.69010323e+12 1.69010319e+12 1.69010315e+12 1.69010311e+12\n",
      " 1.69010306e+12 1.69010302e+12 1.69010298e+12 1.69010294e+12\n",
      " 1.69010290e+12 1.69010285e+12 1.69010281e+12 1.69010277e+12\n",
      " 1.69010273e+12 1.69010269e+12 1.69010264e+12 1.69010260e+12\n",
      " 1.69010256e+12 1.69010252e+12 1.69010248e+12 1.69010243e+12\n",
      " 1.69010239e+12 1.69010235e+12 1.69010231e+12 1.69010227e+12\n",
      " 1.69010222e+12 1.69010218e+12 1.69010214e+12 1.69010210e+12\n",
      " 1.69010206e+12 1.69010202e+12 1.69010197e+12 1.69010193e+12\n",
      " 1.69010189e+12 1.69010185e+12 1.69010181e+12 1.69010176e+12\n",
      " 1.69010172e+12 1.69010168e+12 1.69010164e+12 1.69010160e+12\n",
      " 1.69010155e+12 1.69010151e+12 1.69010147e+12 1.69010143e+12\n",
      " 1.69010139e+12 1.69010134e+12 1.69010130e+12 1.69010126e+12\n",
      " 1.69010122e+12 1.69010118e+12 1.69010113e+12 1.69010109e+12\n",
      " 1.69010105e+12 1.69010101e+12 1.69010097e+12 1.69010092e+12\n",
      " 1.69010088e+12 1.69010084e+12 1.69010080e+12 1.69010076e+12]\n",
      "cost_test = [6.63957645e+12 3.87471102e+12 2.60015745e+12 2.02135445e+12\n",
      " 1.76471341e+12 1.65539065e+12 1.61212186e+12 1.59753140e+12\n",
      " 1.59470709e+12 1.59619393e+12 1.59884865e+12 1.60145207e+12\n",
      " 1.60361361e+12 1.60527763e+12 1.60650716e+12 1.60739376e+12\n",
      " 1.60802338e+12 1.60846611e+12 1.60877539e+12 1.60899050e+12\n",
      " 1.60913967e+12 1.60924290e+12 1.60931423e+12 1.60936348e+12\n",
      " 1.60939745e+12 1.60942087e+12 1.60943701e+12 1.60944812e+12\n",
      " 1.60945577e+12 1.60946103e+12 1.60946464e+12 1.60946712e+12\n",
      " 1.60946881e+12 1.60946997e+12 1.60947075e+12 1.60947128e+12\n",
      " 1.60947163e+12 1.60947186e+12 1.60947201e+12 1.60947210e+12\n",
      " 1.60947215e+12 1.60947217e+12 1.60947217e+12 1.60947216e+12\n",
      " 1.60947214e+12 1.60947212e+12 1.60947209e+12 1.60947205e+12\n",
      " 1.60947202e+12 1.60947198e+12 1.60947194e+12 1.60947191e+12\n",
      " 1.60947187e+12 1.60947183e+12 1.60947179e+12 1.60947175e+12\n",
      " 1.60947171e+12 1.60947167e+12 1.60947163e+12 1.60947159e+12\n",
      " 1.60947155e+12 1.60947152e+12 1.60947148e+12 1.60947144e+12\n",
      " 1.60947140e+12 1.60947136e+12 1.60947132e+12 1.60947128e+12\n",
      " 1.60947124e+12 1.60947120e+12 1.60947116e+12 1.60947112e+12\n",
      " 1.60947108e+12 1.60947104e+12 1.60947100e+12 1.60947096e+12\n",
      " 1.60947092e+12 1.60947089e+12 1.60947085e+12 1.60947081e+12\n",
      " 1.60947077e+12 1.60947073e+12 1.60947069e+12 1.60947065e+12\n",
      " 1.60947061e+12 1.60947057e+12 1.60947053e+12 1.60947049e+12\n",
      " 1.60947045e+12 1.60947041e+12 1.60947037e+12 1.60947033e+12\n",
      " 1.60947029e+12 1.60947025e+12 1.60947022e+12 1.60947018e+12\n",
      " 1.60947014e+12 1.60947010e+12 1.60947006e+12 1.60947002e+12\n",
      " 1.60946998e+12 1.60946994e+12 1.60946990e+12 1.60946986e+12\n",
      " 1.60946982e+12 1.60946978e+12 1.60946974e+12 1.60946970e+12\n",
      " 1.60946966e+12 1.60946962e+12 1.60946959e+12 1.60946955e+12\n",
      " 1.60946951e+12 1.60946947e+12 1.60946943e+12 1.60946939e+12\n",
      " 1.60946935e+12 1.60946931e+12 1.60946927e+12 1.60946923e+12\n",
      " 1.60946919e+12 1.60946915e+12 1.60946911e+12 1.60946907e+12\n",
      " 1.60946903e+12 1.60946899e+12 1.60946895e+12 1.60946892e+12\n",
      " 1.60946888e+12 1.60946884e+12 1.60946880e+12 1.60946876e+12\n",
      " 1.60946872e+12 1.60946868e+12 1.60946864e+12 1.60946860e+12\n",
      " 1.60946856e+12 1.60946852e+12 1.60946848e+12 1.60946844e+12\n",
      " 1.60946840e+12 1.60946836e+12 1.60946832e+12 1.60946829e+12\n",
      " 1.60946825e+12 1.60946821e+12 1.60946817e+12 1.60946813e+12\n",
      " 1.60946809e+12 1.60946805e+12 1.60946801e+12 1.60946797e+12\n",
      " 1.60946793e+12 1.60946789e+12 1.60946785e+12 1.60946781e+12\n",
      " 1.60946777e+12 1.60946773e+12 1.60946769e+12 1.60946765e+12\n",
      " 1.60946762e+12 1.60946758e+12 1.60946754e+12 1.60946750e+12\n",
      " 1.60946746e+12 1.60946742e+12 1.60946738e+12 1.60946734e+12\n",
      " 1.60946730e+12 1.60946726e+12 1.60946722e+12 1.60946718e+12\n",
      " 1.60946714e+12 1.60946710e+12 1.60946706e+12 1.60946702e+12\n",
      " 1.60946699e+12 1.60946695e+12 1.60946691e+12 1.60946687e+12\n",
      " 1.60946683e+12 1.60946679e+12 1.60946675e+12 1.60946671e+12\n",
      " 1.60946667e+12 1.60946663e+12 1.60946659e+12 1.60946655e+12\n",
      " 1.60946651e+12 1.60946647e+12 1.60946643e+12 1.60946639e+12\n",
      " 1.60946635e+12 1.60946632e+12 1.60946628e+12 1.60946624e+12\n",
      " 1.60946620e+12 1.60946616e+12 1.60946612e+12 1.60946608e+12]\n"
     ]
    }
   ],
   "source": [
    "# Computing final theta values and cost/losses for training and validation set\n",
    "\n",
    "theta, cost_history, cost_test = gradient_descent(X, y, theta, alpha, iterations)\n",
    "print('Final value of theta=', theta)\n",
    "print('cost_history =', cost_history)\n",
    "print('cost_test =', cost_test)"
   ]
  },
  {
   "cell_type": "code",
   "execution_count": 63,
   "id": "c304c24b-adb6-4934-b449-fff974e00fee",
   "metadata": {},
   "outputs": [
    {
     "data": {
      "text/plain": [
       "Text(0.5, 1.0, 'Convergence of Gradient Descent')"
      ]
     },
     "execution_count": 63,
     "metadata": {},
     "output_type": "execute_result"
    },
    {
     "data": {
      "image/png": "[encoded data removed]",
      "text/plain": [
       "<Figure size 720x432 with 1 Axes>"
      ]
     },
     "metadata": {
      "needs_background": "light"
     },
     "output_type": "display_data"
    }
   ],
   "source": [
    "plt.plot(range(1, iterations + 1),cost_history, color='green', label= 'Loss for Training Set')\n",
    "plt.plot(range(1, iterations + 1),cost_test, color='red', label= 'Loss for Validation Set')\n",
    "plt.rcParams[\"figure.figsize\"] = (10,6)\n",
    "plt.grid()\n",
    "plt.legend()\n",
    "plt.xlabel('Number of Iterations')\n",
    "plt.ylabel('Cost (J)')\n",
    "plt.title('Convergence of Gradient Descent')"
   ]
  },
  {
   "cell_type": "code",
   "execution_count": null,
   "id": "068c9178-d4d6-4afa-bb33-66dd12dc2aa9",
   "metadata": {},
   "outputs": [],
   "source": []
  }
 ],
 "metadata": {
  "kernelspec": {
   "display_name": "Python 3 (ipykernel)",
   "language": "python",
   "name": "python3"
  },
  "language_info": {
   "codemirror_mode": {
    "name": "ipython",
    "version": 3
   },
   "file_extension": ".py",
   "mimetype": "text/x-python",
   "name": "python",
   "nbconvert_exporter": "python",
   "pygments_lexer": "ipython3",
   "version": "3.9.12"
  }
 },
 "nbformat": 4,
 "nbformat_minor": 5
}
