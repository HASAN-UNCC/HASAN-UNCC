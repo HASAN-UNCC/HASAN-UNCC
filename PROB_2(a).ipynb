{
 "cells": [
  {
   "cell_type": "code",
   "execution_count": 1,
   "id": "99b24d93-9804-4782-8d0d-d66b42660668",
   "metadata": {},
   "outputs": [],
   "source": [
    "import numpy as np\n",
    "import pandas as pd\n",
    "import matplotlib.pyplot as plt     # Data Visualisation\n",
    "import seaborn as sns\n",
    "import sklearn"
   ]
  },
  {
   "cell_type": "code",
   "execution_count": 2,
   "id": "1de77920-984d-49c6-8f4b-4abdfe19fd22",
   "metadata": {},
   "outputs": [
    {
     "data": {
      "text/html": [
       "<div>\n",
       "<style scoped>\n",
       "    .dataframe tbody tr th:only-of-type {\n",
       "        vertical-align: middle;\n",
       "    }\n",
       "\n",
       "    .dataframe tbody tr th {\n",
       "        vertical-align: top;\n",
       "    }\n",
       "\n",
       "    .dataframe thead th {\n",
       "        text-align: right;\n",
       "    }\n",
       "</style>\n",
       "<table border=\"1\" class=\"dataframe\">\n",
       "  <thead>\n",
       "    <tr style=\"text-align: right;\">\n",
       "      <th></th>\n",
       "      <th>price</th>\n",
       "      <th>area</th>\n",
       "      <th>bedrooms</th>\n",
       "      <th>bathrooms</th>\n",
       "      <th>stories</th>\n",
       "      <th>mainroad</th>\n",
       "      <th>guestroom</th>\n",
       "      <th>basement</th>\n",
       "      <th>hotwaterheating</th>\n",
       "      <th>airconditioning</th>\n",
       "      <th>parking</th>\n",
       "      <th>prefarea</th>\n",
       "      <th>furnishingstatus</th>\n",
       "    </tr>\n",
       "  </thead>\n",
       "  <tbody>\n",
       "    <tr>\n",
       "      <th>0</th>\n",
       "      <td>13300000</td>\n",
       "      <td>7420</td>\n",
       "      <td>4</td>\n",
       "      <td>2</td>\n",
       "      <td>3</td>\n",
       "      <td>yes</td>\n",
       "      <td>no</td>\n",
       "      <td>no</td>\n",
       "      <td>no</td>\n",
       "      <td>yes</td>\n",
       "      <td>2</td>\n",
       "      <td>yes</td>\n",
       "      <td>furnished</td>\n",
       "    </tr>\n",
       "    <tr>\n",
       "      <th>1</th>\n",
       "      <td>12250000</td>\n",
       "      <td>8960</td>\n",
       "      <td>4</td>\n",
       "      <td>4</td>\n",
       "      <td>4</td>\n",
       "      <td>yes</td>\n",
       "      <td>no</td>\n",
       "      <td>no</td>\n",
       "      <td>no</td>\n",
       "      <td>yes</td>\n",
       "      <td>3</td>\n",
       "      <td>no</td>\n",
       "      <td>furnished</td>\n",
       "    </tr>\n",
       "    <tr>\n",
       "      <th>2</th>\n",
       "      <td>12250000</td>\n",
       "      <td>9960</td>\n",
       "      <td>3</td>\n",
       "      <td>2</td>\n",
       "      <td>2</td>\n",
       "      <td>yes</td>\n",
       "      <td>no</td>\n",
       "      <td>yes</td>\n",
       "      <td>no</td>\n",
       "      <td>no</td>\n",
       "      <td>2</td>\n",
       "      <td>yes</td>\n",
       "      <td>semi-furnished</td>\n",
       "    </tr>\n",
       "    <tr>\n",
       "      <th>3</th>\n",
       "      <td>12215000</td>\n",
       "      <td>7500</td>\n",
       "      <td>4</td>\n",
       "      <td>2</td>\n",
       "      <td>2</td>\n",
       "      <td>yes</td>\n",
       "      <td>no</td>\n",
       "      <td>yes</td>\n",
       "      <td>no</td>\n",
       "      <td>yes</td>\n",
       "      <td>3</td>\n",
       "      <td>yes</td>\n",
       "      <td>furnished</td>\n",
       "    </tr>\n",
       "    <tr>\n",
       "      <th>4</th>\n",
       "      <td>11410000</td>\n",
       "      <td>7420</td>\n",
       "      <td>4</td>\n",
       "      <td>1</td>\n",
       "      <td>2</td>\n",
       "      <td>yes</td>\n",
       "      <td>yes</td>\n",
       "      <td>yes</td>\n",
       "      <td>no</td>\n",
       "      <td>yes</td>\n",
       "      <td>2</td>\n",
       "      <td>no</td>\n",
       "      <td>furnished</td>\n",
       "    </tr>\n",
       "  </tbody>\n",
       "</table>\n",
       "</div>"
      ],
      "text/plain": [
       "      price  area  bedrooms  bathrooms  stories mainroad guestroom basement  \\\n",
       "0  13300000  7420         4          2        3      yes        no       no   \n",
       "1  12250000  8960         4          4        4      yes        no       no   \n",
       "2  12250000  9960         3          2        2      yes        no      yes   \n",
       "3  12215000  7500         4          2        2      yes        no      yes   \n",
       "4  11410000  7420         4          1        2      yes       yes      yes   \n",
       "\n",
       "  hotwaterheating airconditioning  parking prefarea furnishingstatus  \n",
       "0              no             yes        2      yes        furnished  \n",
       "1              no             yes        3       no        furnished  \n",
       "2              no              no        2      yes   semi-furnished  \n",
       "3              no             yes        3      yes        furnished  \n",
       "4              no             yes        2       no        furnished  "
      ]
     },
     "execution_count": 2,
     "metadata": {},
     "output_type": "execute_result"
    }
   ],
   "source": [
    "housing = pd.DataFrame(pd.read_csv(\"Housing.csv\"))\n",
    "housing.head()"
   ]
  },
  {
   "cell_type": "code",
   "execution_count": 3,
   "id": "230b2b5f-2aaa-43be-88b2-f0575238bf37",
   "metadata": {},
   "outputs": [
    {
     "data": {
      "text/plain": [
       "545"
      ]
     },
     "execution_count": 3,
     "metadata": {},
     "output_type": "execute_result"
    }
   ],
   "source": [
    "m = len(housing)\n",
    "m"
   ]
  },
  {
   "cell_type": "code",
   "execution_count": 4,
   "id": "570a681b-d457-4f46-846a-30b777e4b075",
   "metadata": {},
   "outputs": [
    {
     "data": {
      "text/plain": [
       "(545, 13)"
      ]
     },
     "execution_count": 4,
     "metadata": {},
     "output_type": "execute_result"
    }
   ],
   "source": [
    "housing.shape"
   ]
  },
  {
   "cell_type": "code",
   "execution_count": 5,
   "id": "7cbf386e-fe67-4568-870c-2575f4ddb822",
   "metadata": {},
   "outputs": [
    {
     "data": {
      "text/html": [
       "<div>\n",
       "<style scoped>\n",
       "    .dataframe tbody tr th:only-of-type {\n",
       "        vertical-align: middle;\n",
       "    }\n",
       "\n",
       "    .dataframe tbody tr th {\n",
       "        vertical-align: top;\n",
       "    }\n",
       "\n",
       "    .dataframe thead th {\n",
       "        text-align: right;\n",
       "    }\n",
       "</style>\n",
       "<table border=\"1\" class=\"dataframe\">\n",
       "  <thead>\n",
       "    <tr style=\"text-align: right;\">\n",
       "      <th></th>\n",
       "      <th>price</th>\n",
       "      <th>area</th>\n",
       "      <th>bedrooms</th>\n",
       "      <th>bathrooms</th>\n",
       "      <th>stories</th>\n",
       "      <th>mainroad</th>\n",
       "      <th>guestroom</th>\n",
       "      <th>basement</th>\n",
       "      <th>hotwaterheating</th>\n",
       "      <th>airconditioning</th>\n",
       "      <th>parking</th>\n",
       "      <th>prefarea</th>\n",
       "      <th>furnishingstatus</th>\n",
       "    </tr>\n",
       "  </thead>\n",
       "  <tbody>\n",
       "    <tr>\n",
       "      <th>0</th>\n",
       "      <td>13300000</td>\n",
       "      <td>7420</td>\n",
       "      <td>4</td>\n",
       "      <td>2</td>\n",
       "      <td>3</td>\n",
       "      <td>1</td>\n",
       "      <td>0</td>\n",
       "      <td>0</td>\n",
       "      <td>0</td>\n",
       "      <td>1</td>\n",
       "      <td>2</td>\n",
       "      <td>1</td>\n",
       "      <td>furnished</td>\n",
       "    </tr>\n",
       "    <tr>\n",
       "      <th>1</th>\n",
       "      <td>12250000</td>\n",
       "      <td>8960</td>\n",
       "      <td>4</td>\n",
       "      <td>4</td>\n",
       "      <td>4</td>\n",
       "      <td>1</td>\n",
       "      <td>0</td>\n",
       "      <td>0</td>\n",
       "      <td>0</td>\n",
       "      <td>1</td>\n",
       "      <td>3</td>\n",
       "      <td>0</td>\n",
       "      <td>furnished</td>\n",
       "    </tr>\n",
       "    <tr>\n",
       "      <th>2</th>\n",
       "      <td>12250000</td>\n",
       "      <td>9960</td>\n",
       "      <td>3</td>\n",
       "      <td>2</td>\n",
       "      <td>2</td>\n",
       "      <td>1</td>\n",
       "      <td>0</td>\n",
       "      <td>1</td>\n",
       "      <td>0</td>\n",
       "      <td>0</td>\n",
       "      <td>2</td>\n",
       "      <td>1</td>\n",
       "      <td>semi-furnished</td>\n",
       "    </tr>\n",
       "    <tr>\n",
       "      <th>3</th>\n",
       "      <td>12215000</td>\n",
       "      <td>7500</td>\n",
       "      <td>4</td>\n",
       "      <td>2</td>\n",
       "      <td>2</td>\n",
       "      <td>1</td>\n",
       "      <td>0</td>\n",
       "      <td>1</td>\n",
       "      <td>0</td>\n",
       "      <td>1</td>\n",
       "      <td>3</td>\n",
       "      <td>1</td>\n",
       "      <td>furnished</td>\n",
       "    </tr>\n",
       "    <tr>\n",
       "      <th>4</th>\n",
       "      <td>11410000</td>\n",
       "      <td>7420</td>\n",
       "      <td>4</td>\n",
       "      <td>1</td>\n",
       "      <td>2</td>\n",
       "      <td>1</td>\n",
       "      <td>1</td>\n",
       "      <td>1</td>\n",
       "      <td>0</td>\n",
       "      <td>1</td>\n",
       "      <td>2</td>\n",
       "      <td>0</td>\n",
       "      <td>furnished</td>\n",
       "    </tr>\n",
       "  </tbody>\n",
       "</table>\n",
       "</div>"
      ],
      "text/plain": [
       "      price  area  bedrooms  bathrooms  stories  mainroad  guestroom  \\\n",
       "0  13300000  7420         4          2        3         1          0   \n",
       "1  12250000  8960         4          4        4         1          0   \n",
       "2  12250000  9960         3          2        2         1          0   \n",
       "3  12215000  7500         4          2        2         1          0   \n",
       "4  11410000  7420         4          1        2         1          1   \n",
       "\n",
       "   basement  hotwaterheating  airconditioning  parking  prefarea  \\\n",
       "0         0                0                1        2         1   \n",
       "1         0                0                1        3         0   \n",
       "2         1                0                0        2         1   \n",
       "3         1                0                1        3         1   \n",
       "4         1                0                1        2         0   \n",
       "\n",
       "  furnishingstatus  \n",
       "0        furnished  \n",
       "1        furnished  \n",
       "2   semi-furnished  \n",
       "3        furnished  \n",
       "4        furnished  "
      ]
     },
     "execution_count": 5,
     "metadata": {},
     "output_type": "execute_result"
    }
   ],
   "source": [
    "varlist = ['mainroad', 'guestroom', 'basement', 'hotwaterheating', 'airconditioning', 'prefarea']\n",
    "\n",
    "# Defining the map function\n",
    "def binary_map(x):\n",
    "    return x.map({'yes': 1, \"no\": 0})\n",
    "\n",
    "# Applying the function to the housing list\n",
    "housing[varlist] = housing[varlist].apply(binary_map)\n",
    "           \n",
    "# Check the housing dataframe now\n",
    "housing.head()"
   ]
  },
  {
   "cell_type": "code",
   "execution_count": 6,
   "id": "1abf074b-8948-4fcd-a31e-8d1259748f7e",
   "metadata": {},
   "outputs": [
    {
     "data": {
      "text/plain": [
       "(436, 13)"
      ]
     },
     "execution_count": 6,
     "metadata": {},
     "output_type": "execute_result"
    }
   ],
   "source": [
    "#Splitting the Data into Training and Testing Sets\n",
    "from sklearn.model_selection import train_test_split\n",
    "\n",
    "np.random.seed(0)\n",
    "df_train, df_test = train_test_split(housing, train_size = 0.8, test_size = 0.2, random_state = 100)\n",
    "df_train.shape"
   ]
  },
  {
   "cell_type": "code",
   "execution_count": 7,
   "id": "90a7bfe2-37fb-4b03-bdaa-f5c2218a82b5",
   "metadata": {},
   "outputs": [
    {
     "data": {
      "text/plain": [
       "(109, 13)"
      ]
     },
     "execution_count": 7,
     "metadata": {},
     "output_type": "execute_result"
    }
   ],
   "source": [
    "df_test.shape"
   ]
  },
  {
   "cell_type": "code",
   "execution_count": 8,
   "id": "a1777175-a2a0-495d-b048-b64c68fc54fb",
   "metadata": {},
   "outputs": [
    {
     "data": {
      "text/html": [
       "<div>\n",
       "<style scoped>\n",
       "    .dataframe tbody tr th:only-of-type {\n",
       "        vertical-align: middle;\n",
       "    }\n",
       "\n",
       "    .dataframe tbody tr th {\n",
       "        vertical-align: top;\n",
       "    }\n",
       "\n",
       "    .dataframe thead th {\n",
       "        text-align: right;\n",
       "    }\n",
       "</style>\n",
       "<table border=\"1\" class=\"dataframe\">\n",
       "  <thead>\n",
       "    <tr style=\"text-align: right;\">\n",
       "      <th></th>\n",
       "      <th>area</th>\n",
       "      <th>bedrooms</th>\n",
       "      <th>bathrooms</th>\n",
       "      <th>stories</th>\n",
       "      <th>parking</th>\n",
       "      <th>price</th>\n",
       "    </tr>\n",
       "  </thead>\n",
       "  <tbody>\n",
       "    <tr>\n",
       "      <th>22</th>\n",
       "      <td>8050</td>\n",
       "      <td>3</td>\n",
       "      <td>1</td>\n",
       "      <td>1</td>\n",
       "      <td>1</td>\n",
       "      <td>8645000</td>\n",
       "    </tr>\n",
       "    <tr>\n",
       "      <th>41</th>\n",
       "      <td>6360</td>\n",
       "      <td>3</td>\n",
       "      <td>2</td>\n",
       "      <td>4</td>\n",
       "      <td>0</td>\n",
       "      <td>7840000</td>\n",
       "    </tr>\n",
       "    <tr>\n",
       "      <th>91</th>\n",
       "      <td>6750</td>\n",
       "      <td>2</td>\n",
       "      <td>1</td>\n",
       "      <td>1</td>\n",
       "      <td>2</td>\n",
       "      <td>6419000</td>\n",
       "    </tr>\n",
       "    <tr>\n",
       "      <th>118</th>\n",
       "      <td>6420</td>\n",
       "      <td>3</td>\n",
       "      <td>1</td>\n",
       "      <td>1</td>\n",
       "      <td>0</td>\n",
       "      <td>5950000</td>\n",
       "    </tr>\n",
       "    <tr>\n",
       "      <th>472</th>\n",
       "      <td>3630</td>\n",
       "      <td>4</td>\n",
       "      <td>1</td>\n",
       "      <td>2</td>\n",
       "      <td>3</td>\n",
       "      <td>3010000</td>\n",
       "    </tr>\n",
       "  </tbody>\n",
       "</table>\n",
       "</div>"
      ],
      "text/plain": [
       "     area  bedrooms  bathrooms  stories  parking    price\n",
       "22   8050         3          1        1        1  8645000\n",
       "41   6360         3          2        4        0  7840000\n",
       "91   6750         2          1        1        2  6419000\n",
       "118  6420         3          1        1        0  5950000\n",
       "472  3630         4          1        2        3  3010000"
      ]
     },
     "execution_count": 8,
     "metadata": {},
     "output_type": "execute_result"
    }
   ],
   "source": [
    "num_vars = ['area', 'bedrooms', 'bathrooms', 'stories', 'parking','price']\n",
    "df_Newtrain = df_train[num_vars]\n",
    "df_Newtest = df_test[num_vars]\n",
    "df_Newtrain.head()"
   ]
  },
  {
   "cell_type": "code",
   "execution_count": 9,
   "id": "42569f40-a14e-4e0f-aa52-121c5a05cbc1",
   "metadata": {},
   "outputs": [
    {
     "data": {
      "text/plain": [
       "(436, 6)"
      ]
     },
     "execution_count": 9,
     "metadata": {},
     "output_type": "execute_result"
    }
   ],
   "source": [
    "df_Newtrain.shape"
   ]
  },
  {
   "cell_type": "code",
   "execution_count": 10,
   "id": "46122167-d086-4cce-98da-360a36abfc85",
   "metadata": {},
   "outputs": [
    {
     "data": {
      "text/html": [
       "<div>\n",
       "<style scoped>\n",
       "    .dataframe tbody tr th:only-of-type {\n",
       "        vertical-align: middle;\n",
       "    }\n",
       "\n",
       "    .dataframe tbody tr th {\n",
       "        vertical-align: top;\n",
       "    }\n",
       "\n",
       "    .dataframe thead th {\n",
       "        text-align: right;\n",
       "    }\n",
       "</style>\n",
       "<table border=\"1\" class=\"dataframe\">\n",
       "  <thead>\n",
       "    <tr style=\"text-align: right;\">\n",
       "      <th></th>\n",
       "      <th>area</th>\n",
       "      <th>bedrooms</th>\n",
       "      <th>bathrooms</th>\n",
       "      <th>stories</th>\n",
       "      <th>parking</th>\n",
       "      <th>price</th>\n",
       "    </tr>\n",
       "  </thead>\n",
       "  <tbody>\n",
       "    <tr>\n",
       "      <th>22</th>\n",
       "      <td>0.432609</td>\n",
       "      <td>0.4</td>\n",
       "      <td>0.000000</td>\n",
       "      <td>0.000000</td>\n",
       "      <td>0.333333</td>\n",
       "      <td>0.596970</td>\n",
       "    </tr>\n",
       "    <tr>\n",
       "      <th>41</th>\n",
       "      <td>0.314954</td>\n",
       "      <td>0.4</td>\n",
       "      <td>0.333333</td>\n",
       "      <td>1.000000</td>\n",
       "      <td>0.000000</td>\n",
       "      <td>0.527273</td>\n",
       "    </tr>\n",
       "    <tr>\n",
       "      <th>91</th>\n",
       "      <td>0.342105</td>\n",
       "      <td>0.2</td>\n",
       "      <td>0.000000</td>\n",
       "      <td>0.000000</td>\n",
       "      <td>0.666667</td>\n",
       "      <td>0.404242</td>\n",
       "    </tr>\n",
       "    <tr>\n",
       "      <th>118</th>\n",
       "      <td>0.319131</td>\n",
       "      <td>0.4</td>\n",
       "      <td>0.000000</td>\n",
       "      <td>0.000000</td>\n",
       "      <td>0.000000</td>\n",
       "      <td>0.363636</td>\n",
       "    </tr>\n",
       "    <tr>\n",
       "      <th>472</th>\n",
       "      <td>0.124896</td>\n",
       "      <td>0.6</td>\n",
       "      <td>0.000000</td>\n",
       "      <td>0.333333</td>\n",
       "      <td>1.000000</td>\n",
       "      <td>0.109091</td>\n",
       "    </tr>\n",
       "    <tr>\n",
       "      <th>344</th>\n",
       "      <td>0.140212</td>\n",
       "      <td>0.2</td>\n",
       "      <td>0.000000</td>\n",
       "      <td>0.000000</td>\n",
       "      <td>0.000000</td>\n",
       "      <td>0.181818</td>\n",
       "    </tr>\n",
       "    <tr>\n",
       "      <th>1</th>\n",
       "      <td>0.495962</td>\n",
       "      <td>0.6</td>\n",
       "      <td>1.000000</td>\n",
       "      <td>1.000000</td>\n",
       "      <td>1.000000</td>\n",
       "      <td>0.909091</td>\n",
       "    </tr>\n",
       "    <tr>\n",
       "      <th>257</th>\n",
       "      <td>0.446533</td>\n",
       "      <td>0.4</td>\n",
       "      <td>0.000000</td>\n",
       "      <td>0.000000</td>\n",
       "      <td>0.000000</td>\n",
       "      <td>0.236364</td>\n",
       "    </tr>\n",
       "    <tr>\n",
       "      <th>184</th>\n",
       "      <td>0.081036</td>\n",
       "      <td>0.4</td>\n",
       "      <td>0.333333</td>\n",
       "      <td>0.333333</td>\n",
       "      <td>0.000000</td>\n",
       "      <td>0.290909</td>\n",
       "    </tr>\n",
       "    <tr>\n",
       "      <th>275</th>\n",
       "      <td>0.152882</td>\n",
       "      <td>0.2</td>\n",
       "      <td>0.000000</td>\n",
       "      <td>0.000000</td>\n",
       "      <td>0.000000</td>\n",
       "      <td>0.222424</td>\n",
       "    </tr>\n",
       "  </tbody>\n",
       "</table>\n",
       "</div>"
      ],
      "text/plain": [
       "         area  bedrooms  bathrooms   stories   parking     price\n",
       "22   0.432609       0.4   0.000000  0.000000  0.333333  0.596970\n",
       "41   0.314954       0.4   0.333333  1.000000  0.000000  0.527273\n",
       "91   0.342105       0.2   0.000000  0.000000  0.666667  0.404242\n",
       "118  0.319131       0.4   0.000000  0.000000  0.000000  0.363636\n",
       "472  0.124896       0.6   0.000000  0.333333  1.000000  0.109091\n",
       "344  0.140212       0.2   0.000000  0.000000  0.000000  0.181818\n",
       "1    0.495962       0.6   1.000000  1.000000  1.000000  0.909091\n",
       "257  0.446533       0.4   0.000000  0.000000  0.000000  0.236364\n",
       "184  0.081036       0.4   0.333333  0.333333  0.000000  0.290909\n",
       "275  0.152882       0.2   0.000000  0.000000  0.000000  0.222424"
      ]
     },
     "execution_count": 10,
     "metadata": {},
     "output_type": "execute_result"
    }
   ],
   "source": [
    "import warnings\n",
    "warnings.filterwarnings('ignore')\n",
    "\n",
    "from sklearn.preprocessing import MinMaxScaler, StandardScaler\n",
    "\n",
    "#scaler = StandardScaler()\n",
    "scaler = MinMaxScaler()   # input Normalization\n",
    "df_Newtrain[num_vars] = scaler.fit_transform(df_Newtrain[num_vars])\n",
    "df_Newtrain.head(10)"
   ]
  },
  {
   "cell_type": "code",
   "execution_count": 11,
   "id": "f2ce218f-b1d0-45f3-8752-2b28cea73b6b",
   "metadata": {},
   "outputs": [
    {
     "data": {
      "text/html": [
       "<div>\n",
       "<style scoped>\n",
       "    .dataframe tbody tr th:only-of-type {\n",
       "        vertical-align: middle;\n",
       "    }\n",
       "\n",
       "    .dataframe tbody tr th {\n",
       "        vertical-align: top;\n",
       "    }\n",
       "\n",
       "    .dataframe thead th {\n",
       "        text-align: right;\n",
       "    }\n",
       "</style>\n",
       "<table border=\"1\" class=\"dataframe\">\n",
       "  <thead>\n",
       "    <tr style=\"text-align: right;\">\n",
       "      <th></th>\n",
       "      <th>area</th>\n",
       "      <th>bedrooms</th>\n",
       "      <th>bathrooms</th>\n",
       "      <th>stories</th>\n",
       "      <th>parking</th>\n",
       "      <th>price</th>\n",
       "    </tr>\n",
       "  </thead>\n",
       "  <tbody>\n",
       "    <tr>\n",
       "      <th>265</th>\n",
       "      <td>0.088172</td>\n",
       "      <td>0.333333</td>\n",
       "      <td>0.0</td>\n",
       "      <td>0.333333</td>\n",
       "      <td>0.000000</td>\n",
       "      <td>0.248485</td>\n",
       "    </tr>\n",
       "    <tr>\n",
       "      <th>54</th>\n",
       "      <td>0.311828</td>\n",
       "      <td>0.333333</td>\n",
       "      <td>0.5</td>\n",
       "      <td>0.333333</td>\n",
       "      <td>0.333333</td>\n",
       "      <td>0.531987</td>\n",
       "    </tr>\n",
       "    <tr>\n",
       "      <th>171</th>\n",
       "      <td>0.617849</td>\n",
       "      <td>0.333333</td>\n",
       "      <td>0.0</td>\n",
       "      <td>0.000000</td>\n",
       "      <td>0.333333</td>\n",
       "      <td>0.329966</td>\n",
       "    </tr>\n",
       "    <tr>\n",
       "      <th>244</th>\n",
       "      <td>0.263082</td>\n",
       "      <td>0.333333</td>\n",
       "      <td>0.0</td>\n",
       "      <td>0.333333</td>\n",
       "      <td>0.000000</td>\n",
       "      <td>0.262626</td>\n",
       "    </tr>\n",
       "    <tr>\n",
       "      <th>268</th>\n",
       "      <td>0.236559</td>\n",
       "      <td>0.666667</td>\n",
       "      <td>0.0</td>\n",
       "      <td>0.333333</td>\n",
       "      <td>0.000000</td>\n",
       "      <td>0.246465</td>\n",
       "    </tr>\n",
       "    <tr>\n",
       "      <th>231</th>\n",
       "      <td>0.191398</td>\n",
       "      <td>0.333333</td>\n",
       "      <td>0.0</td>\n",
       "      <td>0.000000</td>\n",
       "      <td>0.000000</td>\n",
       "      <td>0.276094</td>\n",
       "    </tr>\n",
       "    <tr>\n",
       "      <th>25</th>\n",
       "      <td>0.350538</td>\n",
       "      <td>0.666667</td>\n",
       "      <td>0.5</td>\n",
       "      <td>0.333333</td>\n",
       "      <td>0.666667</td>\n",
       "      <td>0.646465</td>\n",
       "    </tr>\n",
       "    <tr>\n",
       "      <th>169</th>\n",
       "      <td>0.350538</td>\n",
       "      <td>0.666667</td>\n",
       "      <td>0.5</td>\n",
       "      <td>0.333333</td>\n",
       "      <td>0.000000</td>\n",
       "      <td>0.329966</td>\n",
       "    </tr>\n",
       "    <tr>\n",
       "      <th>494</th>\n",
       "      <td>0.369176</td>\n",
       "      <td>0.000000</td>\n",
       "      <td>0.0</td>\n",
       "      <td>0.000000</td>\n",
       "      <td>0.000000</td>\n",
       "      <td>0.087542</td>\n",
       "    </tr>\n",
       "    <tr>\n",
       "      <th>120</th>\n",
       "      <td>0.350538</td>\n",
       "      <td>0.333333</td>\n",
       "      <td>0.0</td>\n",
       "      <td>0.000000</td>\n",
       "      <td>0.666667</td>\n",
       "      <td>0.397306</td>\n",
       "    </tr>\n",
       "  </tbody>\n",
       "</table>\n",
       "</div>"
      ],
      "text/plain": [
       "         area  bedrooms  bathrooms   stories   parking     price\n",
       "265  0.088172  0.333333        0.0  0.333333  0.000000  0.248485\n",
       "54   0.311828  0.333333        0.5  0.333333  0.333333  0.531987\n",
       "171  0.617849  0.333333        0.0  0.000000  0.333333  0.329966\n",
       "244  0.263082  0.333333        0.0  0.333333  0.000000  0.262626\n",
       "268  0.236559  0.666667        0.0  0.333333  0.000000  0.246465\n",
       "231  0.191398  0.333333        0.0  0.000000  0.000000  0.276094\n",
       "25   0.350538  0.666667        0.5  0.333333  0.666667  0.646465\n",
       "169  0.350538  0.666667        0.5  0.333333  0.000000  0.329966\n",
       "494  0.369176  0.000000        0.0  0.000000  0.000000  0.087542\n",
       "120  0.350538  0.333333        0.0  0.000000  0.666667  0.397306"
      ]
     },
     "execution_count": 11,
     "metadata": {},
     "output_type": "execute_result"
    }
   ],
   "source": [
    "df_Newtest[num_vars] = scaler.fit_transform(df_Newtest[num_vars])\n",
    "df_Newtest.head(10)"
   ]
  },
  {
   "cell_type": "code",
   "execution_count": 12,
   "id": "cb646182-2a64-4734-8c6a-48fb33224fb1",
   "metadata": {},
   "outputs": [],
   "source": [
    "y_Newtrain = df_Newtrain.pop('price')\n",
    "X_Newtrain = df_Newtrain"
   ]
  },
  {
   "cell_type": "code",
   "execution_count": 13,
   "id": "bf7af074-c955-4a4d-ae7d-c87701cbc8a5",
   "metadata": {},
   "outputs": [
    {
     "data": {
      "text/html": [
       "<div>\n",
       "<style scoped>\n",
       "    .dataframe tbody tr th:only-of-type {\n",
       "        vertical-align: middle;\n",
       "    }\n",
       "\n",
       "    .dataframe tbody tr th {\n",
       "        vertical-align: top;\n",
       "    }\n",
       "\n",
       "    .dataframe thead th {\n",
       "        text-align: right;\n",
       "    }\n",
       "</style>\n",
       "<table border=\"1\" class=\"dataframe\">\n",
       "  <thead>\n",
       "    <tr style=\"text-align: right;\">\n",
       "      <th></th>\n",
       "      <th>area</th>\n",
       "      <th>bedrooms</th>\n",
       "      <th>bathrooms</th>\n",
       "      <th>stories</th>\n",
       "      <th>parking</th>\n",
       "    </tr>\n",
       "  </thead>\n",
       "  <tbody>\n",
       "    <tr>\n",
       "      <th>22</th>\n",
       "      <td>0.432609</td>\n",
       "      <td>0.4</td>\n",
       "      <td>0.000000</td>\n",
       "      <td>0.000000</td>\n",
       "      <td>0.333333</td>\n",
       "    </tr>\n",
       "    <tr>\n",
       "      <th>41</th>\n",
       "      <td>0.314954</td>\n",
       "      <td>0.4</td>\n",
       "      <td>0.333333</td>\n",
       "      <td>1.000000</td>\n",
       "      <td>0.000000</td>\n",
       "    </tr>\n",
       "    <tr>\n",
       "      <th>91</th>\n",
       "      <td>0.342105</td>\n",
       "      <td>0.2</td>\n",
       "      <td>0.000000</td>\n",
       "      <td>0.000000</td>\n",
       "      <td>0.666667</td>\n",
       "    </tr>\n",
       "    <tr>\n",
       "      <th>118</th>\n",
       "      <td>0.319131</td>\n",
       "      <td>0.4</td>\n",
       "      <td>0.000000</td>\n",
       "      <td>0.000000</td>\n",
       "      <td>0.000000</td>\n",
       "    </tr>\n",
       "    <tr>\n",
       "      <th>472</th>\n",
       "      <td>0.124896</td>\n",
       "      <td>0.6</td>\n",
       "      <td>0.000000</td>\n",
       "      <td>0.333333</td>\n",
       "      <td>1.000000</td>\n",
       "    </tr>\n",
       "  </tbody>\n",
       "</table>\n",
       "</div>"
      ],
      "text/plain": [
       "         area  bedrooms  bathrooms   stories   parking\n",
       "22   0.432609       0.4   0.000000  0.000000  0.333333\n",
       "41   0.314954       0.4   0.333333  1.000000  0.000000\n",
       "91   0.342105       0.2   0.000000  0.000000  0.666667\n",
       "118  0.319131       0.4   0.000000  0.000000  0.000000\n",
       "472  0.124896       0.6   0.000000  0.333333  1.000000"
      ]
     },
     "execution_count": 13,
     "metadata": {},
     "output_type": "execute_result"
    }
   ],
   "source": [
    "X_Newtrain.head()"
   ]
  },
  {
   "cell_type": "code",
   "execution_count": 14,
   "id": "90a476ae-376c-40a7-8959-aeb6a7a0221a",
   "metadata": {},
   "outputs": [
    {
     "data": {
      "text/plain": [
       "22     0.596970\n",
       "41     0.527273\n",
       "91     0.404242\n",
       "118    0.363636\n",
       "472    0.109091\n",
       "Name: price, dtype: float64"
      ]
     },
     "execution_count": 14,
     "metadata": {},
     "output_type": "execute_result"
    }
   ],
   "source": [
    "y_Newtrain.head()"
   ]
  },
  {
   "cell_type": "code",
   "execution_count": 15,
   "id": "65d1ffb6-dc11-496a-b11f-5d128f2bcc3a",
   "metadata": {},
   "outputs": [
    {
     "name": "stdout",
     "output_type": "stream",
     "text": [
      "y =  [0.5969697  0.52727273 0.40424242 0.36363636 0.10909091 0.18181818\n",
      " 0.90909091 0.23636364 0.29090909 0.22242424]\n"
     ]
    }
   ],
   "source": [
    "y = y_Newtrain.values\n",
    "print('y = ', y[: 10])"
   ]
  },
  {
   "cell_type": "code",
   "execution_count": 16,
   "id": "9cb8f8ae-83e3-4349-8b43-d6bbce8f6ce0",
   "metadata": {},
   "outputs": [],
   "source": [
    "# preparing the training set\n",
    "\n",
    "X1 = df_Newtrain.values[:, 0]       \n",
    "X2 = df_Newtrain.values[:, 1]              \n",
    "X3 = df_Newtrain.values[:, 2]               \n",
    "X4 = df_Newtrain.values[:, 3]             \n",
    "X5 = df_Newtrain.values[:, 4]     "
   ]
  },
  {
   "cell_type": "code",
   "execution_count": 17,
   "id": "0b0b9861-e83b-4265-bf6c-77e1bee1b194",
   "metadata": {},
   "outputs": [
    {
     "data": {
      "text/plain": [
       "array([[1.],\n",
       "       [1.],\n",
       "       [1.],\n",
       "       [1.],\n",
       "       [1.]])"
      ]
     },
     "execution_count": 17,
     "metadata": {},
     "output_type": "execute_result"
    }
   ],
   "source": [
    "m = len(X_Newtrain)         # size of training set\n",
    "X_0 = np.ones((m, 1))        \n",
    "X_0 [: 5]"
   ]
  },
  {
   "cell_type": "code",
   "execution_count": 18,
   "id": "9a9c90fd-407e-45ba-a125-922950175ceb",
   "metadata": {},
   "outputs": [],
   "source": [
    "X_1 = X1.reshape(m, 1)\n",
    "X_2 = X2.reshape(m, 1)\n",
    "X_3 = X3.reshape(m, 1)\n",
    "X_4 = X4.reshape(m, 1)\n",
    "X_5 = X5.reshape(m, 1)"
   ]
  },
  {
   "cell_type": "code",
   "execution_count": 19,
   "id": "04d99a4e-5305-462b-b3df-6e91408bee11",
   "metadata": {},
   "outputs": [
    {
     "data": {
      "text/plain": [
       "array([[1.        , 0.4326093 , 0.4       , 0.        , 0.        ,\n",
       "        0.33333333],\n",
       "       [1.        , 0.31495405, 0.4       , 0.33333333, 1.        ,\n",
       "        0.        ],\n",
       "       [1.        , 0.34210526, 0.2       , 0.        , 0.        ,\n",
       "        0.66666667],\n",
       "       [1.        , 0.31913116, 0.4       , 0.        , 0.        ,\n",
       "        0.        ],\n",
       "       [1.        , 0.12489557, 0.6       , 0.        , 0.33333333,\n",
       "        1.        ]])"
      ]
     },
     "execution_count": 19,
     "metadata": {},
     "output_type": "execute_result"
    }
   ],
   "source": [
    "# Stacking X_0, X_1, X_2, X_3, X-4 and X_5 horizotally\n",
    "# This is the final X Matrix for training\n",
    "\n",
    "X = np.hstack((X_0, X_1, X_2, X_3, X_4, X_5))\n",
    "X [: 5]"
   ]
  },
  {
   "cell_type": "code",
   "execution_count": 20,
   "id": "cf4ebf7f-a239-4a8b-85cf-a82f299385ca",
   "metadata": {},
   "outputs": [
    {
     "data": {
      "text/plain": [
       "array([0., 0., 0., 0., 0., 0.])"
      ]
     },
     "execution_count": 20,
     "metadata": {},
     "output_type": "execute_result"
    }
   ],
   "source": [
    "theta = np.zeros(6)\n",
    "theta"
   ]
  },
  {
   "cell_type": "code",
   "execution_count": 21,
   "id": "09ee7a84-da91-4dff-9103-873690e8ddcb",
   "metadata": {},
   "outputs": [],
   "source": [
    "y_Newtest = df_Newtest.pop('price')\n",
    "X_Newtest = df_Newtest"
   ]
  },
  {
   "cell_type": "code",
   "execution_count": 22,
   "id": "ebf8bc12-d510-4f93-abfe-b111713449f8",
   "metadata": {},
   "outputs": [
    {
     "data": {
      "text/html": [
       "<div>\n",
       "<style scoped>\n",
       "    .dataframe tbody tr th:only-of-type {\n",
       "        vertical-align: middle;\n",
       "    }\n",
       "\n",
       "    .dataframe tbody tr th {\n",
       "        vertical-align: top;\n",
       "    }\n",
       "\n",
       "    .dataframe thead th {\n",
       "        text-align: right;\n",
       "    }\n",
       "</style>\n",
       "<table border=\"1\" class=\"dataframe\">\n",
       "  <thead>\n",
       "    <tr style=\"text-align: right;\">\n",
       "      <th></th>\n",
       "      <th>area</th>\n",
       "      <th>bedrooms</th>\n",
       "      <th>bathrooms</th>\n",
       "      <th>stories</th>\n",
       "      <th>parking</th>\n",
       "    </tr>\n",
       "  </thead>\n",
       "  <tbody>\n",
       "    <tr>\n",
       "      <th>265</th>\n",
       "      <td>0.088172</td>\n",
       "      <td>0.333333</td>\n",
       "      <td>0.0</td>\n",
       "      <td>0.333333</td>\n",
       "      <td>0.000000</td>\n",
       "    </tr>\n",
       "    <tr>\n",
       "      <th>54</th>\n",
       "      <td>0.311828</td>\n",
       "      <td>0.333333</td>\n",
       "      <td>0.5</td>\n",
       "      <td>0.333333</td>\n",
       "      <td>0.333333</td>\n",
       "    </tr>\n",
       "    <tr>\n",
       "      <th>171</th>\n",
       "      <td>0.617849</td>\n",
       "      <td>0.333333</td>\n",
       "      <td>0.0</td>\n",
       "      <td>0.000000</td>\n",
       "      <td>0.333333</td>\n",
       "    </tr>\n",
       "    <tr>\n",
       "      <th>244</th>\n",
       "      <td>0.263082</td>\n",
       "      <td>0.333333</td>\n",
       "      <td>0.0</td>\n",
       "      <td>0.333333</td>\n",
       "      <td>0.000000</td>\n",
       "    </tr>\n",
       "    <tr>\n",
       "      <th>268</th>\n",
       "      <td>0.236559</td>\n",
       "      <td>0.666667</td>\n",
       "      <td>0.0</td>\n",
       "      <td>0.333333</td>\n",
       "      <td>0.000000</td>\n",
       "    </tr>\n",
       "  </tbody>\n",
       "</table>\n",
       "</div>"
      ],
      "text/plain": [
       "         area  bedrooms  bathrooms   stories   parking\n",
       "265  0.088172  0.333333        0.0  0.333333  0.000000\n",
       "54   0.311828  0.333333        0.5  0.333333  0.333333\n",
       "171  0.617849  0.333333        0.0  0.000000  0.333333\n",
       "244  0.263082  0.333333        0.0  0.333333  0.000000\n",
       "268  0.236559  0.666667        0.0  0.333333  0.000000"
      ]
     },
     "execution_count": 22,
     "metadata": {},
     "output_type": "execute_result"
    }
   ],
   "source": [
    "X_Newtest.head()"
   ]
  },
  {
   "cell_type": "code",
   "execution_count": 23,
   "id": "128838da-15e7-4c9c-8ce0-d6e3f3cbe67a",
   "metadata": {},
   "outputs": [
    {
     "data": {
      "text/plain": [
       "265    0.248485\n",
       "54     0.531987\n",
       "171    0.329966\n",
       "244    0.262626\n",
       "268    0.246465\n",
       "Name: price, dtype: float64"
      ]
     },
     "execution_count": 23,
     "metadata": {},
     "output_type": "execute_result"
    }
   ],
   "source": [
    "y_Newtest.head()"
   ]
  },
  {
   "cell_type": "code",
   "execution_count": 24,
   "id": "d6fb8819-d830-4c97-b19a-a114e38202e4",
   "metadata": {},
   "outputs": [
    {
     "name": "stdout",
     "output_type": "stream",
     "text": [
      "y_test =  [0.24848485 0.53198653 0.32996633 0.26262626 0.24646465 0.27609428\n",
      " 0.64646465 0.32996633 0.08754209 0.3973064 ]\n"
     ]
    }
   ],
   "source": [
    "y_test = y_Newtest.values\n",
    "print('y_test = ', y_test[: 10])"
   ]
  },
  {
   "cell_type": "code",
   "execution_count": 25,
   "id": "7b5a788d-a572-4b9b-b209-5279e7b33b99",
   "metadata": {},
   "outputs": [],
   "source": [
    "# preparing validation set\n",
    "X1_test = df_Newtest.values[:, 0]              \n",
    "X2_test = df_Newtest.values[:, 1]                \n",
    "X3_test = df_Newtest.values[:, 2]               \n",
    "X4_test = df_Newtest.values[:, 3]               \n",
    "X5_test = df_Newtest.values[:, 4]     "
   ]
  },
  {
   "cell_type": "code",
   "execution_count": 26,
   "id": "b62e1f73-a718-4518-a35e-2cfb894fb3f4",
   "metadata": {},
   "outputs": [
    {
     "data": {
      "text/plain": [
       "array([[1.],\n",
       "       [1.],\n",
       "       [1.],\n",
       "       [1.],\n",
       "       [1.]])"
      ]
     },
     "execution_count": 26,
     "metadata": {},
     "output_type": "execute_result"
    }
   ],
   "source": [
    "m_test = len(X_Newtest)             # size of validation set\n",
    "X_0_test = np.ones((m_test, 1))    \n",
    "X_0_test [: 5]"
   ]
  },
  {
   "cell_type": "code",
   "execution_count": 27,
   "id": "845feda8-725e-4f60-bb01-06a5feb24484",
   "metadata": {},
   "outputs": [],
   "source": [
    "X_1_test = X1_test.reshape(m_test, 1)\n",
    "X_2_test = X2_test.reshape(m_test, 1)\n",
    "X_3_test = X3_test.reshape(m_test, 1)\n",
    "X_4_test = X4_test.reshape(m_test, 1)\n",
    "X_5_test = X5_test.reshape(m_test, 1)"
   ]
  },
  {
   "cell_type": "code",
   "execution_count": 28,
   "id": "29984c79-e225-4d71-bda2-3ee06e01c670",
   "metadata": {},
   "outputs": [
    {
     "data": {
      "text/plain": [
       "array([[1.        , 0.08817204, 0.33333333, 0.        , 0.33333333,\n",
       "        0.        ],\n",
       "       [1.        , 0.31182796, 0.33333333, 0.5       , 0.33333333,\n",
       "        0.33333333],\n",
       "       [1.        , 0.61784946, 0.33333333, 0.        , 0.        ,\n",
       "        0.33333333],\n",
       "       [1.        , 0.26308244, 0.33333333, 0.        , 0.33333333,\n",
       "        0.        ],\n",
       "       [1.        , 0.23655914, 0.66666667, 0.        , 0.33333333,\n",
       "        0.        ]])"
      ]
     },
     "execution_count": 28,
     "metadata": {},
     "output_type": "execute_result"
    }
   ],
   "source": [
    "# Stacking X_0_test through X_5_test horizotally\n",
    "# This is the final X Matrix for validation\n",
    "\n",
    "X_test = np.hstack((X_0_test, X_1_test, X_2_test, X_3_test, X_4_test, X_5_test))\n",
    "X_test [: 5]"
   ]
  },
  {
   "cell_type": "code",
   "execution_count": 29,
   "id": "e993a31f-70fa-4d16-ab5d-85247f055d82",
   "metadata": {},
   "outputs": [],
   "source": [
    "# defining function for computing the cost for linear regression\n",
    "\n",
    "def compute_cost(X, y, theta, m):\n",
    "    predictions = X.dot(theta)\n",
    "    errors = np.subtract(predictions, y)\n",
    "    sqrErrors = np.square(errors)\n",
    "    J = 1 / (2 * m) * np.sum(sqrErrors)\n",
    "    return J"
   ]
  },
  {
   "cell_type": "code",
   "execution_count": 30,
   "id": "c3bee626-ec44-4010-afe7-6a0adf799a10",
   "metadata": {},
   "outputs": [
    {
     "data": {
      "text/plain": [
       "0.04780662856311236"
      ]
     },
     "execution_count": 30,
     "metadata": {},
     "output_type": "execute_result"
    }
   ],
   "source": [
    "cost = compute_cost(X, y, theta, m)\n",
    "cost"
   ]
  },
  {
   "cell_type": "code",
   "execution_count": 31,
   "id": "46905e19-6b78-4ad7-b30f-643d3656c0e7",
   "metadata": {},
   "outputs": [],
   "source": [
    "# gradient descent algorithm\n",
    "\n",
    "def gradient_descent(X, y, theta, alpha, iterations):\n",
    "    cost_history = np.zeros(iterations)\n",
    "    cost_test = np.zeros(iterations)\n",
    "    for i in range(iterations):\n",
    "        predictions = X.dot(theta)\n",
    "        errors = np.subtract(predictions, y)\n",
    "        sum_delta = (alpha / m) * X.transpose().dot(errors);\n",
    "        theta = theta - sum_delta;\n",
    "        cost_history[i] = compute_cost(X, y, theta, m)                     # loss for training set\n",
    "        cost_test[i] = compute_cost(X_test, y_test, theta, m_test)         # loss for validation set\n",
    "    \n",
    "    return theta, cost_history, cost_test"
   ]
  },
  {
   "cell_type": "code",
   "execution_count": 32,
   "id": "bc103a20-ed71-4602-8c56-93d15e574ebb",
   "metadata": {},
   "outputs": [],
   "source": [
    "theta = [0., 0., 0., 0., 0., 0.]\n",
    "iterations = 400;\n",
    "alpha = 0.02"
   ]
  },
  {
   "cell_type": "code",
   "execution_count": 33,
   "id": "f3b6b6e4-3821-4aff-b36d-9d2c62be7c7d",
   "metadata": {},
   "outputs": [
    {
     "name": "stdout",
     "output_type": "stream",
     "text": [
      "Final value of theta= [0.14524413 0.10802614 0.08759683 0.09378449 0.114807   0.0989285 ]\n",
      "cost_history = [0.04576234 0.04382791 0.04199742 0.04026525 0.0386261  0.03707495\n",
      " 0.03560706 0.03421794 0.03290333 0.03165922 0.03048181 0.02936749\n",
      " 0.02831286 0.02731471 0.02636999 0.02547582 0.02462946 0.02382835\n",
      " 0.02307003 0.02235221 0.0216727  0.02102944 0.02042046 0.01984392\n",
      " 0.01929807 0.01878126 0.01829192 0.01782857 0.01738981 0.01697431\n",
      " 0.01658081 0.01620814 0.01585517 0.01552084 0.01520414 0.01490412\n",
      " 0.01461989 0.01435059 0.01409541 0.01385361 0.01362445 0.01340726\n",
      " 0.01320139 0.01300623 0.0128212  0.01264576 0.0124794  0.01232162\n",
      " 0.01217196 0.01202998 0.01189528 0.01176745 0.01164614 0.01153098\n",
      " 0.01142165 0.01131784 0.01121924 0.01112558 0.01103659 0.01095203\n",
      " 0.01087164 0.01079522 0.01072254 0.0106534  0.01058762 0.01052501\n",
      " 0.01046541 0.01040865 0.01035458 0.01030306 0.01025395 0.01020712\n",
      " 0.01016244 0.01011981 0.01007912 0.01004025 0.01000312 0.00996762\n",
      " 0.00993368 0.00990121 0.00987013 0.00984037 0.00981185 0.00978452\n",
      " 0.0097583  0.00973314 0.00970898 0.00968577 0.00966346 0.00964201\n",
      " 0.00962135 0.00960146 0.0095823  0.00956382 0.00954599 0.00952877\n",
      " 0.00951213 0.00949605 0.00948049 0.00946543 0.00945083 0.00943669\n",
      " 0.00942296 0.00940963 0.00939669 0.0093841  0.00937185 0.00935993\n",
      " 0.00934832 0.00933699 0.00932595 0.00931516 0.00930463 0.00929433\n",
      " 0.00928426 0.00927439 0.00926474 0.00925527 0.00924599 0.00923688\n",
      " 0.00922794 0.00921915 0.00921051 0.00920202 0.00919366 0.00918543\n",
      " 0.00917732 0.00916933 0.00916145 0.00915368 0.00914601 0.00913843\n",
      " 0.00913095 0.00912355 0.00911624 0.00910901 0.00910186 0.00909478\n",
      " 0.00908777 0.00908083 0.00907395 0.00906713 0.00906037 0.00905367\n",
      " 0.00904702 0.00904043 0.00903388 0.00902739 0.00902094 0.00901453\n",
      " 0.00900817 0.00900185 0.00899556 0.00898932 0.00898312 0.00897695\n",
      " 0.00897081 0.00896471 0.00895864 0.0089526  0.00894659 0.00894061\n",
      " 0.00893466 0.00892874 0.00892285 0.00891698 0.00891114 0.00890532\n",
      " 0.00889952 0.00889375 0.00888801 0.00888228 0.00887658 0.0088709\n",
      " 0.00886524 0.0088596  0.00885398 0.00884838 0.0088428  0.00883724\n",
      " 0.0088317  0.00882618 0.00882067 0.00881519 0.00880972 0.00880426\n",
      " 0.00879883 0.00879341 0.00878801 0.00878262 0.00877725 0.0087719\n",
      " 0.00876656 0.00876124 0.00875593 0.00875064 0.00874536 0.0087401\n",
      " 0.00873485 0.00872962 0.0087244  0.00871919 0.008714   0.00870883\n",
      " 0.00870366 0.00869852 0.00869338 0.00868826 0.00868315 0.00867806\n",
      " 0.00867298 0.00866791 0.00866285 0.00865781 0.00865278 0.00864777\n",
      " 0.00864276 0.00863777 0.00863279 0.00862783 0.00862288 0.00861793\n",
      " 0.00861301 0.00860809 0.00860319 0.0085983  0.00859342 0.00858855\n",
      " 0.00858369 0.00857885 0.00857402 0.0085692  0.00856439 0.0085596\n",
      " 0.00855481 0.00855004 0.00854528 0.00854053 0.00853579 0.00853107\n",
      " 0.00852635 0.00852165 0.00851696 0.00851228 0.00850761 0.00850295\n",
      " 0.0084983  0.00849367 0.00848904 0.00848443 0.00847983 0.00847524\n",
      " 0.00847065 0.00846609 0.00846153 0.00845698 0.00845244 0.00844792\n",
      " 0.0084434  0.0084389  0.0084344  0.00842992 0.00842545 0.00842098\n",
      " 0.00841653 0.00841209 0.00840766 0.00840324 0.00839883 0.00839443\n",
      " 0.00839004 0.00838566 0.00838129 0.00837694 0.00837259 0.00836825\n",
      " 0.00836392 0.00835961 0.0083553  0.008351   0.00834671 0.00834244\n",
      " 0.00833817 0.00833391 0.00832967 0.00832543 0.0083212  0.00831698\n",
      " 0.00831278 0.00830858 0.00830439 0.00830021 0.00829604 0.00829188\n",
      " 0.00828773 0.00828359 0.00827946 0.00827534 0.00827123 0.00826713\n",
      " 0.00826304 0.00825896 0.00825488 0.00825082 0.00824677 0.00824272\n",
      " 0.00823868 0.00823466 0.00823064 0.00822663 0.00822263 0.00821864\n",
      " 0.00821466 0.00821069 0.00820673 0.00820278 0.00819883 0.0081949\n",
      " 0.00819097 0.00818706 0.00818315 0.00817925 0.00817536 0.00817148\n",
      " 0.00816761 0.00816374 0.00815989 0.00815604 0.0081522  0.00814837\n",
      " 0.00814455 0.00814074 0.00813694 0.00813315 0.00812936 0.00812559\n",
      " 0.00812182 0.00811806 0.00811431 0.00811056 0.00810683 0.0081031\n",
      " 0.00809939 0.00809568 0.00809198 0.00808829 0.0080846  0.00808093\n",
      " 0.00807726 0.0080736  0.00806995 0.00806631 0.00806267 0.00805905\n",
      " 0.00805543 0.00805182 0.00804822 0.00804462 0.00804104 0.00803746\n",
      " 0.00803389 0.00803033 0.00802677 0.00802323 0.00801969 0.00801616\n",
      " 0.00801264 0.00800912 0.00800562 0.00800212 0.00799863 0.00799514\n",
      " 0.00799167 0.0079882  0.00798474 0.00798129 0.00797784 0.0079744\n",
      " 0.00797097 0.00796755 0.00796414 0.00796073 0.00795733 0.00795394\n",
      " 0.00795056 0.00794718 0.00794381 0.00794045 0.00793709 0.00793375\n",
      " 0.00793041 0.00792707 0.00792375 0.00792043 0.00791712 0.00791382\n",
      " 0.00791052 0.00790723 0.00790395 0.00790067]\n",
      "cost_test = [0.05128492 0.04927022 0.04735989 0.04554841 0.04383054 0.04220134\n",
      " 0.04065612 0.03919043 0.03780008 0.03648109 0.03522969 0.03404233\n",
      " 0.03291563 0.0318464  0.0308316  0.02986839 0.02895404 0.028086\n",
      " 0.02726184 0.02647925 0.02573605 0.02503019 0.02435972 0.02372277\n",
      " 0.02311761 0.02254258 0.0219961  0.02147669 0.02098294 0.02051352\n",
      " 0.02006717 0.01964268 0.01923893 0.01885485 0.01848941 0.01814166\n",
      " 0.01781068 0.01749561 0.01719564 0.01690998 0.0166379  0.01637871\n",
      " 0.01613174 0.01589638 0.01567203 0.01545813 0.01525414 0.01505958\n",
      " 0.01487395 0.0146968  0.01452772 0.01436628 0.01421211 0.01406484\n",
      " 0.01392413 0.01378964 0.01366107 0.01353811 0.0134205  0.01330796\n",
      " 0.01320025 0.01309713 0.01299836 0.01290374 0.01281306 0.01272613\n",
      " 0.01264276 0.01256278 0.01248604 0.01241236 0.0123416  0.01227363\n",
      " 0.0122083  0.0121455  0.01208509 0.01202697 0.01197103 0.01191716\n",
      " 0.01186527 0.01181526 0.01176705 0.01172055 0.01167568 0.01163236\n",
      " 0.01159053 0.01155012 0.01151106 0.01147328 0.01143674 0.01140137\n",
      " 0.01136713 0.01133395 0.0113018  0.01127063 0.01124039 0.01121104\n",
      " 0.01118255 0.01115487 0.01112798 0.01110183 0.0110764  0.01105166\n",
      " 0.01102757 0.0110041  0.01098124 0.01095895 0.01093722 0.01091601\n",
      " 0.01089531 0.0108751  0.01085536 0.01083606 0.01081719 0.01079873\n",
      " 0.01078067 0.01076299 0.01074568 0.01072872 0.01071209 0.01069579\n",
      " 0.0106798  0.01066411 0.01064871 0.01063359 0.01061874 0.01060414\n",
      " 0.0105898  0.01057569 0.01056181 0.01054816 0.01053472 0.01052149\n",
      " 0.01050846 0.01049562 0.01048297 0.0104705  0.0104582  0.01044607\n",
      " 0.0104341  0.01042229 0.01041063 0.01039912 0.01038775 0.01037652\n",
      " 0.01036543 0.01035446 0.01034362 0.0103329  0.0103223  0.01031181\n",
      " 0.01030143 0.01029117 0.010281   0.01027094 0.01026097 0.01025111\n",
      " 0.01024133 0.01023165 0.01022205 0.01021254 0.01020311 0.01019377\n",
      " 0.0101845  0.01017531 0.0101662  0.01015716 0.01014819 0.01013929\n",
      " 0.01013046 0.01012169 0.01011299 0.01010435 0.01009577 0.01008726\n",
      " 0.0100788  0.0100704  0.01006205 0.01005376 0.01004553 0.01003735\n",
      " 0.01002921 0.01002113 0.0100131  0.01000512 0.00999718 0.00998929\n",
      " 0.00998145 0.00997365 0.00996589 0.00995818 0.00995051 0.00994288\n",
      " 0.00993529 0.00992774 0.00992023 0.00991276 0.00990532 0.00989792\n",
      " 0.00989056 0.00988324 0.00987595 0.00986869 0.00986147 0.00985428\n",
      " 0.00984713 0.00984001 0.00983292 0.00982586 0.00981883 0.00981184\n",
      " 0.00980487 0.00979794 0.00979103 0.00978415 0.0097773  0.00977048\n",
      " 0.00976369 0.00975692 0.00975018 0.00974347 0.00973678 0.00973013\n",
      " 0.00972349 0.00971688 0.0097103  0.00970374 0.00969721 0.0096907\n",
      " 0.00968422 0.00967775 0.00967132 0.0096649  0.00965851 0.00965214\n",
      " 0.0096458  0.00963947 0.00963317 0.00962689 0.00962064 0.0096144\n",
      " 0.00960818 0.00960199 0.00959582 0.00958967 0.00958353 0.00957742\n",
      " 0.00957133 0.00956526 0.00955921 0.00955318 0.00954717 0.00954117\n",
      " 0.0095352  0.00952925 0.00952331 0.0095174  0.0095115  0.00950562\n",
      " 0.00949976 0.00949392 0.00948809 0.00948229 0.0094765  0.00947073\n",
      " 0.00946497 0.00945924 0.00945352 0.00944782 0.00944213 0.00943647\n",
      " 0.00943082 0.00942519 0.00941957 0.00941397 0.00940839 0.00940282\n",
      " 0.00939727 0.00939174 0.00938622 0.00938072 0.00937523 0.00936976\n",
      " 0.00936431 0.00935887 0.00935345 0.00934804 0.00934265 0.00933728\n",
      " 0.00933192 0.00932657 0.00932124 0.00931593 0.00931063 0.00930534\n",
      " 0.00930007 0.00929482 0.00928958 0.00928435 0.00927914 0.00927395\n",
      " 0.00926876 0.0092636  0.00925844 0.00925331 0.00924818 0.00924307\n",
      " 0.00923798 0.00923289 0.00922783 0.00922277 0.00921773 0.00921271\n",
      " 0.0092077  0.0092027  0.00919771 0.00919274 0.00918778 0.00918284\n",
      " 0.00917791 0.00917299 0.00916809 0.0091632  0.00915832 0.00915346\n",
      " 0.00914861 0.00914377 0.00913894 0.00913413 0.00912933 0.00912455\n",
      " 0.00911977 0.00911501 0.00911027 0.00910553 0.00910081 0.0090961\n",
      " 0.00909141 0.00908672 0.00908205 0.00907739 0.00907275 0.00906811\n",
      " 0.00906349 0.00905888 0.00905428 0.0090497  0.00904513 0.00904057\n",
      " 0.00903602 0.00903148 0.00902696 0.00902245 0.00901795 0.00901346\n",
      " 0.00900898 0.00900452 0.00900007 0.00899562 0.0089912  0.00898678\n",
      " 0.00898237 0.00897798 0.0089736  0.00896923 0.00896487 0.00896052\n",
      " 0.00895618 0.00895186 0.00894754 0.00894324 0.00893895 0.00893467\n",
      " 0.0089304  0.00892615 0.0089219  0.00891766 0.00891344 0.00890923\n",
      " 0.00890503 0.00890084 0.00889666 0.00889249 0.00888833 0.00888418\n",
      " 0.00888005 0.00887592 0.00887181 0.00886771 0.00886361 0.00885953\n",
      " 0.00885546 0.0088514  0.00884735 0.00884331 0.00883928 0.00883526\n",
      " 0.00883125 0.00882726 0.00882327 0.00881929]\n"
     ]
    }
   ],
   "source": [
    "# Computing final theta values and cost/losses for training and validation set\n",
    "\n",
    "theta, cost_history, cost_test = gradient_descent(X, y, theta, alpha, iterations)\n",
    "print('Final value of theta=', theta)\n",
    "print('cost_history =', cost_history)\n",
    "print('cost_test =', cost_test)"
   ]
  },
  {
   "cell_type": "code",
   "execution_count": 35,
   "id": "cc5345a5-8a12-4fbf-9ebf-344a002993ec",
   "metadata": {},
   "outputs": [
    {
     "data": {
      "text/plain": [
       "Text(0.5, 1.0, 'Convergence of Gradient Descent')"
      ]
     },
     "execution_count": 35,
     "metadata": {},
     "output_type": "execute_result"
    },
    {
     "data": {
      "image/png": "[encoded data removed]",
      "text/plain": [
       "<Figure size 720x432 with 1 Axes>"
      ]
     },
     "metadata": {
      "needs_background": "light"
     },
     "output_type": "display_data"
    }
   ],
   "source": [
    "plt.plot(range(1, iterations + 1),cost_history, color='green', label= 'Loss for Training Set')\n",
    "plt.plot(range(1, iterations + 1),cost_test, color='red', label= 'Loss for Validation Set')\n",
    "plt.rcParams[\"figure.figsize\"] = (10,6)\n",
    "plt.grid()\n",
    "plt.legend()\n",
    "plt.xlabel('Number of Iterations')\n",
    "plt.ylabel('Cost (J)')\n",
    "plt.title('Convergence of Gradient Descent')"
   ]
  }
 ],
 "metadata": {
  "kernelspec": {
   "display_name": "Python 3 (ipykernel)",
   "language": "python",
   "name": "python3"
  },
  "language_info": {
   "codemirror_mode": {
    "name": "ipython",
    "version": 3
   },
   "file_extension": ".py",
   "mimetype": "text/x-python",
   "name": "python",
   "nbconvert_exporter": "python",
   "pygments_lexer": "ipython3",
   "version": "3.9.12"
  }
 },
 "nbformat": 4,
 "nbformat_minor": 5
}
