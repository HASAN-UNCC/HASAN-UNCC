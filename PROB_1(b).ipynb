{
 "cells": [
  {
   "cell_type": "code",
   "execution_count": 2,
   "id": "be83b44d-8ec4-4692-9280-dbfcccded889",
   "metadata": {},
   "outputs": [],
   "source": [
    "import numpy as np\n",
    "import pandas as pd\n",
    "import matplotlib.pyplot as plt     # Data Visualisation\n",
    "import seaborn as sns\n",
    "import sklearn"
   ]
  },
  {
   "cell_type": "code",
   "execution_count": 3,
   "id": "3896ea13-713b-43d5-877e-caa17fa93bca",
   "metadata": {},
   "outputs": [
    {
     "data": {
      "text/html": [
       "<div>\n",
       "<style scoped>\n",
       "    .dataframe tbody tr th:only-of-type {\n",
       "        vertical-align: middle;\n",
       "    }\n",
       "\n",
       "    .dataframe tbody tr th {\n",
       "        vertical-align: top;\n",
       "    }\n",
       "\n",
       "    .dataframe thead th {\n",
       "        text-align: right;\n",
       "    }\n",
       "</style>\n",
       "<table border=\"1\" class=\"dataframe\">\n",
       "  <thead>\n",
       "    <tr style=\"text-align: right;\">\n",
       "      <th></th>\n",
       "      <th>price</th>\n",
       "      <th>area</th>\n",
       "      <th>bedrooms</th>\n",
       "      <th>bathrooms</th>\n",
       "      <th>stories</th>\n",
       "      <th>mainroad</th>\n",
       "      <th>guestroom</th>\n",
       "      <th>basement</th>\n",
       "      <th>hotwaterheating</th>\n",
       "      <th>airconditioning</th>\n",
       "      <th>parking</th>\n",
       "      <th>prefarea</th>\n",
       "      <th>furnishingstatus</th>\n",
       "    </tr>\n",
       "  </thead>\n",
       "  <tbody>\n",
       "    <tr>\n",
       "      <th>0</th>\n",
       "      <td>13300000</td>\n",
       "      <td>7420</td>\n",
       "      <td>4</td>\n",
       "      <td>2</td>\n",
       "      <td>3</td>\n",
       "      <td>yes</td>\n",
       "      <td>no</td>\n",
       "      <td>no</td>\n",
       "      <td>no</td>\n",
       "      <td>yes</td>\n",
       "      <td>2</td>\n",
       "      <td>yes</td>\n",
       "      <td>furnished</td>\n",
       "    </tr>\n",
       "    <tr>\n",
       "      <th>1</th>\n",
       "      <td>12250000</td>\n",
       "      <td>8960</td>\n",
       "      <td>4</td>\n",
       "      <td>4</td>\n",
       "      <td>4</td>\n",
       "      <td>yes</td>\n",
       "      <td>no</td>\n",
       "      <td>no</td>\n",
       "      <td>no</td>\n",
       "      <td>yes</td>\n",
       "      <td>3</td>\n",
       "      <td>no</td>\n",
       "      <td>furnished</td>\n",
       "    </tr>\n",
       "    <tr>\n",
       "      <th>2</th>\n",
       "      <td>12250000</td>\n",
       "      <td>9960</td>\n",
       "      <td>3</td>\n",
       "      <td>2</td>\n",
       "      <td>2</td>\n",
       "      <td>yes</td>\n",
       "      <td>no</td>\n",
       "      <td>yes</td>\n",
       "      <td>no</td>\n",
       "      <td>no</td>\n",
       "      <td>2</td>\n",
       "      <td>yes</td>\n",
       "      <td>semi-furnished</td>\n",
       "    </tr>\n",
       "    <tr>\n",
       "      <th>3</th>\n",
       "      <td>12215000</td>\n",
       "      <td>7500</td>\n",
       "      <td>4</td>\n",
       "      <td>2</td>\n",
       "      <td>2</td>\n",
       "      <td>yes</td>\n",
       "      <td>no</td>\n",
       "      <td>yes</td>\n",
       "      <td>no</td>\n",
       "      <td>yes</td>\n",
       "      <td>3</td>\n",
       "      <td>yes</td>\n",
       "      <td>furnished</td>\n",
       "    </tr>\n",
       "    <tr>\n",
       "      <th>4</th>\n",
       "      <td>11410000</td>\n",
       "      <td>7420</td>\n",
       "      <td>4</td>\n",
       "      <td>1</td>\n",
       "      <td>2</td>\n",
       "      <td>yes</td>\n",
       "      <td>yes</td>\n",
       "      <td>yes</td>\n",
       "      <td>no</td>\n",
       "      <td>yes</td>\n",
       "      <td>2</td>\n",
       "      <td>no</td>\n",
       "      <td>furnished</td>\n",
       "    </tr>\n",
       "  </tbody>\n",
       "</table>\n",
       "</div>"
      ],
      "text/plain": [
       "      price  area  bedrooms  bathrooms  stories mainroad guestroom basement  \\\n",
       "0  13300000  7420         4          2        3      yes        no       no   \n",
       "1  12250000  8960         4          4        4      yes        no       no   \n",
       "2  12250000  9960         3          2        2      yes        no      yes   \n",
       "3  12215000  7500         4          2        2      yes        no      yes   \n",
       "4  11410000  7420         4          1        2      yes       yes      yes   \n",
       "\n",
       "  hotwaterheating airconditioning  parking prefarea furnishingstatus  \n",
       "0              no             yes        2      yes        furnished  \n",
       "1              no             yes        3       no        furnished  \n",
       "2              no              no        2      yes   semi-furnished  \n",
       "3              no             yes        3      yes        furnished  \n",
       "4              no             yes        2       no        furnished  "
      ]
     },
     "execution_count": 3,
     "metadata": {},
     "output_type": "execute_result"
    }
   ],
   "source": [
    "housing = pd.DataFrame(pd.read_csv(\"Housing.csv\"))\n",
    "housing.head()"
   ]
  },
  {
   "cell_type": "code",
   "execution_count": 4,
   "id": "4ef17152-05b6-4b1d-9576-7fb38868cfe7",
   "metadata": {},
   "outputs": [
    {
     "data": {
      "text/plain": [
       "545"
      ]
     },
     "execution_count": 4,
     "metadata": {},
     "output_type": "execute_result"
    }
   ],
   "source": [
    "m = len(housing)\n",
    "m"
   ]
  },
  {
   "cell_type": "code",
   "execution_count": 5,
   "id": "3bdfc4db-41a3-44b8-ab79-cc1b601dc45e",
   "metadata": {},
   "outputs": [
    {
     "data": {
      "text/plain": [
       "(545, 13)"
      ]
     },
     "execution_count": 5,
     "metadata": {},
     "output_type": "execute_result"
    }
   ],
   "source": [
    "housing.shape"
   ]
  },
  {
   "cell_type": "code",
   "execution_count": 6,
   "id": "923b3e13-05a3-454b-9e2c-077426925ae6",
   "metadata": {},
   "outputs": [
    {
     "data": {
      "text/html": [
       "<div>\n",
       "<style scoped>\n",
       "    .dataframe tbody tr th:only-of-type {\n",
       "        vertical-align: middle;\n",
       "    }\n",
       "\n",
       "    .dataframe tbody tr th {\n",
       "        vertical-align: top;\n",
       "    }\n",
       "\n",
       "    .dataframe thead th {\n",
       "        text-align: right;\n",
       "    }\n",
       "</style>\n",
       "<table border=\"1\" class=\"dataframe\">\n",
       "  <thead>\n",
       "    <tr style=\"text-align: right;\">\n",
       "      <th></th>\n",
       "      <th>price</th>\n",
       "      <th>area</th>\n",
       "      <th>bedrooms</th>\n",
       "      <th>bathrooms</th>\n",
       "      <th>stories</th>\n",
       "      <th>mainroad</th>\n",
       "      <th>guestroom</th>\n",
       "      <th>basement</th>\n",
       "      <th>hotwaterheating</th>\n",
       "      <th>airconditioning</th>\n",
       "      <th>parking</th>\n",
       "      <th>prefarea</th>\n",
       "      <th>furnishingstatus</th>\n",
       "    </tr>\n",
       "  </thead>\n",
       "  <tbody>\n",
       "    <tr>\n",
       "      <th>0</th>\n",
       "      <td>13300000</td>\n",
       "      <td>7420</td>\n",
       "      <td>4</td>\n",
       "      <td>2</td>\n",
       "      <td>3</td>\n",
       "      <td>1</td>\n",
       "      <td>0</td>\n",
       "      <td>0</td>\n",
       "      <td>0</td>\n",
       "      <td>1</td>\n",
       "      <td>2</td>\n",
       "      <td>1</td>\n",
       "      <td>furnished</td>\n",
       "    </tr>\n",
       "    <tr>\n",
       "      <th>1</th>\n",
       "      <td>12250000</td>\n",
       "      <td>8960</td>\n",
       "      <td>4</td>\n",
       "      <td>4</td>\n",
       "      <td>4</td>\n",
       "      <td>1</td>\n",
       "      <td>0</td>\n",
       "      <td>0</td>\n",
       "      <td>0</td>\n",
       "      <td>1</td>\n",
       "      <td>3</td>\n",
       "      <td>0</td>\n",
       "      <td>furnished</td>\n",
       "    </tr>\n",
       "    <tr>\n",
       "      <th>2</th>\n",
       "      <td>12250000</td>\n",
       "      <td>9960</td>\n",
       "      <td>3</td>\n",
       "      <td>2</td>\n",
       "      <td>2</td>\n",
       "      <td>1</td>\n",
       "      <td>0</td>\n",
       "      <td>1</td>\n",
       "      <td>0</td>\n",
       "      <td>0</td>\n",
       "      <td>2</td>\n",
       "      <td>1</td>\n",
       "      <td>semi-furnished</td>\n",
       "    </tr>\n",
       "    <tr>\n",
       "      <th>3</th>\n",
       "      <td>12215000</td>\n",
       "      <td>7500</td>\n",
       "      <td>4</td>\n",
       "      <td>2</td>\n",
       "      <td>2</td>\n",
       "      <td>1</td>\n",
       "      <td>0</td>\n",
       "      <td>1</td>\n",
       "      <td>0</td>\n",
       "      <td>1</td>\n",
       "      <td>3</td>\n",
       "      <td>1</td>\n",
       "      <td>furnished</td>\n",
       "    </tr>\n",
       "    <tr>\n",
       "      <th>4</th>\n",
       "      <td>11410000</td>\n",
       "      <td>7420</td>\n",
       "      <td>4</td>\n",
       "      <td>1</td>\n",
       "      <td>2</td>\n",
       "      <td>1</td>\n",
       "      <td>1</td>\n",
       "      <td>1</td>\n",
       "      <td>0</td>\n",
       "      <td>1</td>\n",
       "      <td>2</td>\n",
       "      <td>0</td>\n",
       "      <td>furnished</td>\n",
       "    </tr>\n",
       "  </tbody>\n",
       "</table>\n",
       "</div>"
      ],
      "text/plain": [
       "      price  area  bedrooms  bathrooms  stories  mainroad  guestroom  \\\n",
       "0  13300000  7420         4          2        3         1          0   \n",
       "1  12250000  8960         4          4        4         1          0   \n",
       "2  12250000  9960         3          2        2         1          0   \n",
       "3  12215000  7500         4          2        2         1          0   \n",
       "4  11410000  7420         4          1        2         1          1   \n",
       "\n",
       "   basement  hotwaterheating  airconditioning  parking  prefarea  \\\n",
       "0         0                0                1        2         1   \n",
       "1         0                0                1        3         0   \n",
       "2         1                0                0        2         1   \n",
       "3         1                0                1        3         1   \n",
       "4         1                0                1        2         0   \n",
       "\n",
       "  furnishingstatus  \n",
       "0        furnished  \n",
       "1        furnished  \n",
       "2   semi-furnished  \n",
       "3        furnished  \n",
       "4        furnished  "
      ]
     },
     "execution_count": 6,
     "metadata": {},
     "output_type": "execute_result"
    }
   ],
   "source": [
    "varlist = ['mainroad', 'guestroom', 'basement', 'hotwaterheating', 'airconditioning', 'prefarea']\n",
    "\n",
    "# Defining the map function\n",
    "def binary_map(x):\n",
    "    return x.map({'yes': 1, \"no\": 0})\n",
    "\n",
    "# Applying the function to the housing list\n",
    "housing[varlist] = housing[varlist].apply(binary_map)\n",
    "           \n",
    "# Check the housing dataframe now\n",
    "housing.head()"
   ]
  },
  {
   "cell_type": "code",
   "execution_count": 7,
   "id": "0bb0292a-43b8-4534-b2bf-3f4a5ea5d4fe",
   "metadata": {},
   "outputs": [
    {
     "data": {
      "text/plain": [
       "(436, 13)"
      ]
     },
     "execution_count": 7,
     "metadata": {},
     "output_type": "execute_result"
    }
   ],
   "source": [
    "#Splitting the Data into Training and Testing Sets\n",
    "from sklearn.model_selection import train_test_split\n",
    "\n",
    "np.random.seed(0)\n",
    "df_train, df_test = train_test_split(housing, train_size = 0.8, test_size = 0.2, random_state = 100)\n",
    "df_train.shape"
   ]
  },
  {
   "cell_type": "code",
   "execution_count": 8,
   "id": "e6936888-3b37-4bbb-bca8-9f3cc552f4c6",
   "metadata": {},
   "outputs": [
    {
     "data": {
      "text/plain": [
       "(109, 13)"
      ]
     },
     "execution_count": 8,
     "metadata": {},
     "output_type": "execute_result"
    }
   ],
   "source": [
    "df_test.shape"
   ]
  },
  {
   "cell_type": "code",
   "execution_count": 9,
   "id": "3b8f2b9d-a968-4372-85b1-578cf1fe1ed4",
   "metadata": {},
   "outputs": [
    {
     "data": {
      "text/html": [
       "<div>\n",
       "<style scoped>\n",
       "    .dataframe tbody tr th:only-of-type {\n",
       "        vertical-align: middle;\n",
       "    }\n",
       "\n",
       "    .dataframe tbody tr th {\n",
       "        vertical-align: top;\n",
       "    }\n",
       "\n",
       "    .dataframe thead th {\n",
       "        text-align: right;\n",
       "    }\n",
       "</style>\n",
       "<table border=\"1\" class=\"dataframe\">\n",
       "  <thead>\n",
       "    <tr style=\"text-align: right;\">\n",
       "      <th></th>\n",
       "      <th>area</th>\n",
       "      <th>bedrooms</th>\n",
       "      <th>bathrooms</th>\n",
       "      <th>stories</th>\n",
       "      <th>mainroad</th>\n",
       "      <th>guestroom</th>\n",
       "      <th>basement</th>\n",
       "      <th>hotwaterheating</th>\n",
       "      <th>airconditioning</th>\n",
       "      <th>parking</th>\n",
       "      <th>prefarea</th>\n",
       "      <th>price</th>\n",
       "    </tr>\n",
       "  </thead>\n",
       "  <tbody>\n",
       "    <tr>\n",
       "      <th>22</th>\n",
       "      <td>8050</td>\n",
       "      <td>3</td>\n",
       "      <td>1</td>\n",
       "      <td>1</td>\n",
       "      <td>1</td>\n",
       "      <td>1</td>\n",
       "      <td>1</td>\n",
       "      <td>0</td>\n",
       "      <td>1</td>\n",
       "      <td>1</td>\n",
       "      <td>0</td>\n",
       "      <td>8645000</td>\n",
       "    </tr>\n",
       "    <tr>\n",
       "      <th>41</th>\n",
       "      <td>6360</td>\n",
       "      <td>3</td>\n",
       "      <td>2</td>\n",
       "      <td>4</td>\n",
       "      <td>1</td>\n",
       "      <td>0</td>\n",
       "      <td>0</td>\n",
       "      <td>0</td>\n",
       "      <td>1</td>\n",
       "      <td>0</td>\n",
       "      <td>1</td>\n",
       "      <td>7840000</td>\n",
       "    </tr>\n",
       "    <tr>\n",
       "      <th>91</th>\n",
       "      <td>6750</td>\n",
       "      <td>2</td>\n",
       "      <td>1</td>\n",
       "      <td>1</td>\n",
       "      <td>1</td>\n",
       "      <td>1</td>\n",
       "      <td>1</td>\n",
       "      <td>0</td>\n",
       "      <td>0</td>\n",
       "      <td>2</td>\n",
       "      <td>1</td>\n",
       "      <td>6419000</td>\n",
       "    </tr>\n",
       "    <tr>\n",
       "      <th>118</th>\n",
       "      <td>6420</td>\n",
       "      <td>3</td>\n",
       "      <td>1</td>\n",
       "      <td>1</td>\n",
       "      <td>1</td>\n",
       "      <td>0</td>\n",
       "      <td>1</td>\n",
       "      <td>0</td>\n",
       "      <td>1</td>\n",
       "      <td>0</td>\n",
       "      <td>1</td>\n",
       "      <td>5950000</td>\n",
       "    </tr>\n",
       "    <tr>\n",
       "      <th>472</th>\n",
       "      <td>3630</td>\n",
       "      <td>4</td>\n",
       "      <td>1</td>\n",
       "      <td>2</td>\n",
       "      <td>1</td>\n",
       "      <td>0</td>\n",
       "      <td>0</td>\n",
       "      <td>0</td>\n",
       "      <td>0</td>\n",
       "      <td>3</td>\n",
       "      <td>0</td>\n",
       "      <td>3010000</td>\n",
       "    </tr>\n",
       "  </tbody>\n",
       "</table>\n",
       "</div>"
      ],
      "text/plain": [
       "     area  bedrooms  bathrooms  stories  mainroad  guestroom  basement  \\\n",
       "22   8050         3          1        1         1          1         1   \n",
       "41   6360         3          2        4         1          0         0   \n",
       "91   6750         2          1        1         1          1         1   \n",
       "118  6420         3          1        1         1          0         1   \n",
       "472  3630         4          1        2         1          0         0   \n",
       "\n",
       "     hotwaterheating  airconditioning  parking  prefarea    price  \n",
       "22                 0                1        1         0  8645000  \n",
       "41                 0                1        0         1  7840000  \n",
       "91                 0                0        2         1  6419000  \n",
       "118                0                1        0         1  5950000  \n",
       "472                0                0        3         0  3010000  "
      ]
     },
     "execution_count": 9,
     "metadata": {},
     "output_type": "execute_result"
    }
   ],
   "source": [
    "num_vars = ['area', 'bedrooms', 'bathrooms', 'stories', 'mainroad', 'guestroom', 'basement', 'hotwaterheating', 'airconditioning', 'parking', 'prefarea', 'price']\n",
    "df_Newtrain = df_train[num_vars]\n",
    "df_Newtest = df_test[num_vars]\n",
    "df_Newtrain.head()"
   ]
  },
  {
   "cell_type": "code",
   "execution_count": 10,
   "id": "9c11b900-4d5b-40df-a550-02c5d66d5698",
   "metadata": {},
   "outputs": [
    {
     "data": {
      "text/plain": [
       "(436, 12)"
      ]
     },
     "execution_count": 10,
     "metadata": {},
     "output_type": "execute_result"
    }
   ],
   "source": [
    "df_Newtrain.shape"
   ]
  },
  {
   "cell_type": "code",
   "execution_count": 11,
   "id": "7c0d4f7b-c7e9-46dd-b5b0-6e254ad481a6",
   "metadata": {},
   "outputs": [],
   "source": [
    "y_Newtrain = df_Newtrain.pop('price')\n",
    "X_Newtrain = df_Newtrain"
   ]
  },
  {
   "cell_type": "code",
   "execution_count": 12,
   "id": "97a77d43-8fac-445f-8a5b-4f244548a5b3",
   "metadata": {},
   "outputs": [
    {
     "data": {
      "text/html": [
       "<div>\n",
       "<style scoped>\n",
       "    .dataframe tbody tr th:only-of-type {\n",
       "        vertical-align: middle;\n",
       "    }\n",
       "\n",
       "    .dataframe tbody tr th {\n",
       "        vertical-align: top;\n",
       "    }\n",
       "\n",
       "    .dataframe thead th {\n",
       "        text-align: right;\n",
       "    }\n",
       "</style>\n",
       "<table border=\"1\" class=\"dataframe\">\n",
       "  <thead>\n",
       "    <tr style=\"text-align: right;\">\n",
       "      <th></th>\n",
       "      <th>area</th>\n",
       "      <th>bedrooms</th>\n",
       "      <th>bathrooms</th>\n",
       "      <th>stories</th>\n",
       "      <th>mainroad</th>\n",
       "      <th>guestroom</th>\n",
       "      <th>basement</th>\n",
       "      <th>hotwaterheating</th>\n",
       "      <th>airconditioning</th>\n",
       "      <th>parking</th>\n",
       "      <th>prefarea</th>\n",
       "    </tr>\n",
       "  </thead>\n",
       "  <tbody>\n",
       "    <tr>\n",
       "      <th>22</th>\n",
       "      <td>8050</td>\n",
       "      <td>3</td>\n",
       "      <td>1</td>\n",
       "      <td>1</td>\n",
       "      <td>1</td>\n",
       "      <td>1</td>\n",
       "      <td>1</td>\n",
       "      <td>0</td>\n",
       "      <td>1</td>\n",
       "      <td>1</td>\n",
       "      <td>0</td>\n",
       "    </tr>\n",
       "    <tr>\n",
       "      <th>41</th>\n",
       "      <td>6360</td>\n",
       "      <td>3</td>\n",
       "      <td>2</td>\n",
       "      <td>4</td>\n",
       "      <td>1</td>\n",
       "      <td>0</td>\n",
       "      <td>0</td>\n",
       "      <td>0</td>\n",
       "      <td>1</td>\n",
       "      <td>0</td>\n",
       "      <td>1</td>\n",
       "    </tr>\n",
       "    <tr>\n",
       "      <th>91</th>\n",
       "      <td>6750</td>\n",
       "      <td>2</td>\n",
       "      <td>1</td>\n",
       "      <td>1</td>\n",
       "      <td>1</td>\n",
       "      <td>1</td>\n",
       "      <td>1</td>\n",
       "      <td>0</td>\n",
       "      <td>0</td>\n",
       "      <td>2</td>\n",
       "      <td>1</td>\n",
       "    </tr>\n",
       "    <tr>\n",
       "      <th>118</th>\n",
       "      <td>6420</td>\n",
       "      <td>3</td>\n",
       "      <td>1</td>\n",
       "      <td>1</td>\n",
       "      <td>1</td>\n",
       "      <td>0</td>\n",
       "      <td>1</td>\n",
       "      <td>0</td>\n",
       "      <td>1</td>\n",
       "      <td>0</td>\n",
       "      <td>1</td>\n",
       "    </tr>\n",
       "    <tr>\n",
       "      <th>472</th>\n",
       "      <td>3630</td>\n",
       "      <td>4</td>\n",
       "      <td>1</td>\n",
       "      <td>2</td>\n",
       "      <td>1</td>\n",
       "      <td>0</td>\n",
       "      <td>0</td>\n",
       "      <td>0</td>\n",
       "      <td>0</td>\n",
       "      <td>3</td>\n",
       "      <td>0</td>\n",
       "    </tr>\n",
       "  </tbody>\n",
       "</table>\n",
       "</div>"
      ],
      "text/plain": [
       "     area  bedrooms  bathrooms  stories  mainroad  guestroom  basement  \\\n",
       "22   8050         3          1        1         1          1         1   \n",
       "41   6360         3          2        4         1          0         0   \n",
       "91   6750         2          1        1         1          1         1   \n",
       "118  6420         3          1        1         1          0         1   \n",
       "472  3630         4          1        2         1          0         0   \n",
       "\n",
       "     hotwaterheating  airconditioning  parking  prefarea  \n",
       "22                 0                1        1         0  \n",
       "41                 0                1        0         1  \n",
       "91                 0                0        2         1  \n",
       "118                0                1        0         1  \n",
       "472                0                0        3         0  "
      ]
     },
     "execution_count": 12,
     "metadata": {},
     "output_type": "execute_result"
    }
   ],
   "source": [
    "X_Newtrain.head()"
   ]
  },
  {
   "cell_type": "code",
   "execution_count": 13,
   "id": "6e35fc77-7413-487e-b74d-86c9f64271bb",
   "metadata": {},
   "outputs": [
    {
     "data": {
      "text/plain": [
       "22     8645000\n",
       "41     7840000\n",
       "91     6419000\n",
       "118    5950000\n",
       "472    3010000\n",
       "Name: price, dtype: int64"
      ]
     },
     "execution_count": 13,
     "metadata": {},
     "output_type": "execute_result"
    }
   ],
   "source": [
    "y_Newtrain.head()"
   ]
  },
  {
   "cell_type": "code",
   "execution_count": 14,
   "id": "ed10a69a-72e2-4d62-bc6f-0213ef0b0161",
   "metadata": {},
   "outputs": [
    {
     "name": "stdout",
     "output_type": "stream",
     "text": [
      "y =  [ 8645000  7840000  6419000  5950000  3010000  3850000 12250000  4480000\n",
      "  5110000  4319000]\n"
     ]
    }
   ],
   "source": [
    "y = y_Newtrain.values\n",
    "print('y = ', y[: 10])"
   ]
  },
  {
   "cell_type": "code",
   "execution_count": 15,
   "id": "ffeb1f16-9949-4e05-a5ed-94e436c5ea88",
   "metadata": {},
   "outputs": [],
   "source": [
    "# training set\n",
    "\n",
    "X1 = df_Newtrain.values[:, 0]                \n",
    "X2 = df_Newtrain.values[:, 1]               \n",
    "X3 = df_Newtrain.values[:, 2]               \n",
    "X4 = df_Newtrain.values[:, 3]                \n",
    "X5 = df_Newtrain.values[:, 4]              \n",
    "X6 = df_Newtrain.values[:, 5]      \n",
    "X7 = df_Newtrain.values[:, 6]      \n",
    "X8 = df_Newtrain.values[:, 7]      \n",
    "X9 = df_Newtrain.values[:, 8]      \n",
    "X10 = df_Newtrain.values[:, 9]     \n",
    "X11 = df_Newtrain.values[:, 10]     "
   ]
  },
  {
   "cell_type": "code",
   "execution_count": 16,
   "id": "d596f758-7db8-4354-88c4-d6f32f52e1c7",
   "metadata": {},
   "outputs": [
    {
     "data": {
      "text/plain": [
       "array([[1.],\n",
       "       [1.],\n",
       "       [1.],\n",
       "       [1.],\n",
       "       [1.]])"
      ]
     },
     "execution_count": 16,
     "metadata": {},
     "output_type": "execute_result"
    }
   ],
   "source": [
    "m = len(X_Newtrain)         # size of training set\n",
    "X_0 = np.ones((m, 1))        \n",
    "X_0 [: 5]"
   ]
  },
  {
   "cell_type": "code",
   "execution_count": 17,
   "id": "b9077a1a-74e5-427a-89d5-6b37b73009b3",
   "metadata": {},
   "outputs": [],
   "source": [
    "X_1 = X1.reshape(m, 1)\n",
    "X_2 = X2.reshape(m, 1)\n",
    "X_3 = X3.reshape(m, 1)\n",
    "X_4 = X4.reshape(m, 1)\n",
    "X_5 = X5.reshape(m, 1)\n",
    "X_6 = X6.reshape(m, 1)\n",
    "X_7 = X7.reshape(m, 1)\n",
    "X_8 = X8.reshape(m, 1)\n",
    "X_9 = X9.reshape(m, 1)\n",
    "X_10 = X10.reshape(m, 1)\n",
    "X_11 = X11.reshape(m, 1)"
   ]
  },
  {
   "cell_type": "code",
   "execution_count": 18,
   "id": "ff3073bb-ecf7-4850-8981-6337e32c8f2e",
   "metadata": {},
   "outputs": [
    {
     "data": {
      "text/plain": [
       "array([[1.00e+00, 8.05e+03, 3.00e+00, 1.00e+00, 1.00e+00, 1.00e+00,\n",
       "        1.00e+00, 1.00e+00, 0.00e+00, 1.00e+00, 1.00e+00, 0.00e+00],\n",
       "       [1.00e+00, 6.36e+03, 3.00e+00, 2.00e+00, 4.00e+00, 1.00e+00,\n",
       "        0.00e+00, 0.00e+00, 0.00e+00, 1.00e+00, 0.00e+00, 1.00e+00],\n",
       "       [1.00e+00, 6.75e+03, 2.00e+00, 1.00e+00, 1.00e+00, 1.00e+00,\n",
       "        1.00e+00, 1.00e+00, 0.00e+00, 0.00e+00, 2.00e+00, 1.00e+00],\n",
       "       [1.00e+00, 6.42e+03, 3.00e+00, 1.00e+00, 1.00e+00, 1.00e+00,\n",
       "        0.00e+00, 1.00e+00, 0.00e+00, 1.00e+00, 0.00e+00, 1.00e+00],\n",
       "       [1.00e+00, 3.63e+03, 4.00e+00, 1.00e+00, 2.00e+00, 1.00e+00,\n",
       "        0.00e+00, 0.00e+00, 0.00e+00, 0.00e+00, 3.00e+00, 0.00e+00]])"
      ]
     },
     "execution_count": 18,
     "metadata": {},
     "output_type": "execute_result"
    }
   ],
   "source": [
    "# Stacking from X_0 to X_11 horizotally\n",
    "# This is the final X Matrix for training\n",
    "\n",
    "X = np.hstack((X_0, X_1, X_2, X_3, X_4, X_5, X_6, X_7, X_8, X_9, X_10, X_11))\n",
    "X [: 5]"
   ]
  },
  {
   "cell_type": "code",
   "execution_count": 19,
   "id": "6cb45195-899b-4c5b-8381-f4c40cf2f79c",
   "metadata": {},
   "outputs": [
    {
     "data": {
      "text/plain": [
       "array([0., 0., 0., 0., 0., 0., 0., 0., 0., 0., 0., 0.])"
      ]
     },
     "execution_count": 19,
     "metadata": {},
     "output_type": "execute_result"
    }
   ],
   "source": [
    "theta = np.zeros(12)\n",
    "theta"
   ]
  },
  {
   "cell_type": "code",
   "execution_count": 20,
   "id": "2727134c-bb13-4a5c-98c2-aecc3e7a2084",
   "metadata": {},
   "outputs": [],
   "source": [
    "y_Newtest = df_Newtest.pop('price')\n",
    "X_Newtest = df_Newtest"
   ]
  },
  {
   "cell_type": "code",
   "execution_count": 21,
   "id": "0cff69f7-cf50-4345-b932-2f914aad1b5d",
   "metadata": {},
   "outputs": [
    {
     "data": {
      "text/html": [
       "<div>\n",
       "<style scoped>\n",
       "    .dataframe tbody tr th:only-of-type {\n",
       "        vertical-align: middle;\n",
       "    }\n",
       "\n",
       "    .dataframe tbody tr th {\n",
       "        vertical-align: top;\n",
       "    }\n",
       "\n",
       "    .dataframe thead th {\n",
       "        text-align: right;\n",
       "    }\n",
       "</style>\n",
       "<table border=\"1\" class=\"dataframe\">\n",
       "  <thead>\n",
       "    <tr style=\"text-align: right;\">\n",
       "      <th></th>\n",
       "      <th>area</th>\n",
       "      <th>bedrooms</th>\n",
       "      <th>bathrooms</th>\n",
       "      <th>stories</th>\n",
       "      <th>mainroad</th>\n",
       "      <th>guestroom</th>\n",
       "      <th>basement</th>\n",
       "      <th>hotwaterheating</th>\n",
       "      <th>airconditioning</th>\n",
       "      <th>parking</th>\n",
       "      <th>prefarea</th>\n",
       "    </tr>\n",
       "  </thead>\n",
       "  <tbody>\n",
       "    <tr>\n",
       "      <th>265</th>\n",
       "      <td>2880</td>\n",
       "      <td>3</td>\n",
       "      <td>1</td>\n",
       "      <td>2</td>\n",
       "      <td>1</td>\n",
       "      <td>0</td>\n",
       "      <td>0</td>\n",
       "      <td>0</td>\n",
       "      <td>0</td>\n",
       "      <td>0</td>\n",
       "      <td>1</td>\n",
       "    </tr>\n",
       "    <tr>\n",
       "      <th>54</th>\n",
       "      <td>6000</td>\n",
       "      <td>3</td>\n",
       "      <td>2</td>\n",
       "      <td>2</td>\n",
       "      <td>1</td>\n",
       "      <td>1</td>\n",
       "      <td>0</td>\n",
       "      <td>0</td>\n",
       "      <td>1</td>\n",
       "      <td>1</td>\n",
       "      <td>0</td>\n",
       "    </tr>\n",
       "    <tr>\n",
       "      <th>171</th>\n",
       "      <td>10269</td>\n",
       "      <td>3</td>\n",
       "      <td>1</td>\n",
       "      <td>1</td>\n",
       "      <td>1</td>\n",
       "      <td>0</td>\n",
       "      <td>0</td>\n",
       "      <td>0</td>\n",
       "      <td>0</td>\n",
       "      <td>1</td>\n",
       "      <td>1</td>\n",
       "    </tr>\n",
       "    <tr>\n",
       "      <th>244</th>\n",
       "      <td>5320</td>\n",
       "      <td>3</td>\n",
       "      <td>1</td>\n",
       "      <td>2</td>\n",
       "      <td>1</td>\n",
       "      <td>1</td>\n",
       "      <td>1</td>\n",
       "      <td>0</td>\n",
       "      <td>0</td>\n",
       "      <td>0</td>\n",
       "      <td>1</td>\n",
       "    </tr>\n",
       "    <tr>\n",
       "      <th>268</th>\n",
       "      <td>4950</td>\n",
       "      <td>4</td>\n",
       "      <td>1</td>\n",
       "      <td>2</td>\n",
       "      <td>1</td>\n",
       "      <td>0</td>\n",
       "      <td>0</td>\n",
       "      <td>0</td>\n",
       "      <td>1</td>\n",
       "      <td>0</td>\n",
       "      <td>0</td>\n",
       "    </tr>\n",
       "  </tbody>\n",
       "</table>\n",
       "</div>"
      ],
      "text/plain": [
       "      area  bedrooms  bathrooms  stories  mainroad  guestroom  basement  \\\n",
       "265   2880         3          1        2         1          0         0   \n",
       "54    6000         3          2        2         1          1         0   \n",
       "171  10269         3          1        1         1          0         0   \n",
       "244   5320         3          1        2         1          1         1   \n",
       "268   4950         4          1        2         1          0         0   \n",
       "\n",
       "     hotwaterheating  airconditioning  parking  prefarea  \n",
       "265                0                0        0         1  \n",
       "54                 0                1        1         0  \n",
       "171                0                0        1         1  \n",
       "244                0                0        0         1  \n",
       "268                0                1        0         0  "
      ]
     },
     "execution_count": 21,
     "metadata": {},
     "output_type": "execute_result"
    }
   ],
   "source": [
    "X_Newtest.head()"
   ]
  },
  {
   "cell_type": "code",
   "execution_count": 22,
   "id": "ccf89dd4-f514-4f7c-8899-6eef9abbdc08",
   "metadata": {},
   "outputs": [
    {
     "data": {
      "text/plain": [
       "265    4403000\n",
       "54     7350000\n",
       "171    5250000\n",
       "244    4550000\n",
       "268    4382000\n",
       "Name: price, dtype: int64"
      ]
     },
     "execution_count": 22,
     "metadata": {},
     "output_type": "execute_result"
    }
   ],
   "source": [
    "y_Newtest.head()"
   ]
  },
  {
   "cell_type": "code",
   "execution_count": 23,
   "id": "f4be688d-72e3-4e1f-bb77-ffea456d266b",
   "metadata": {},
   "outputs": [
    {
     "name": "stdout",
     "output_type": "stream",
     "text": [
      "y_test =  [4403000 7350000 5250000 4550000 4382000 4690000 8540000 5250000 2730000\n",
      " 5950000]\n"
     ]
    }
   ],
   "source": [
    "y_test = y_Newtest.values\n",
    "print('y_test = ', y_test[: 10])"
   ]
  },
  {
   "cell_type": "code",
   "execution_count": 24,
   "id": "2f855b6d-13cd-431b-a654-049ed9385cf9",
   "metadata": {},
   "outputs": [],
   "source": [
    "X1_test = df_Newtest.values[:, 0]                \n",
    "X2_test = df_Newtest.values[:, 1]                 \n",
    "X3_test = df_Newtest.values[:, 2]              \n",
    "X4_test = df_Newtest.values[:, 3]               \n",
    "X5_test = df_Newtest.values[:, 4]    \n",
    "X6_test = df_Newtest.values[:, 5]               \n",
    "X7_test = df_Newtest.values[:, 6]              \n",
    "X8_test = df_Newtest.values[:, 7]               \n",
    "X9_test = df_Newtest.values[:, 8]                \n",
    "X10_test = df_Newtest.values[:, 9]    \n",
    "X11_test = df_Newtest.values[:, 10]   "
   ]
  },
  {
   "cell_type": "code",
   "execution_count": 25,
   "id": "abee479d-5a3d-41ca-ab47-df812949b4f9",
   "metadata": {},
   "outputs": [
    {
     "data": {
      "text/plain": [
       "array([[1.],\n",
       "       [1.],\n",
       "       [1.],\n",
       "       [1.],\n",
       "       [1.]])"
      ]
     },
     "execution_count": 25,
     "metadata": {},
     "output_type": "execute_result"
    }
   ],
   "source": [
    "m_test = len(X_Newtest)             # size of validation set\n",
    "X_0_test = np.ones((m_test, 1))     \n",
    "X_0_test [: 5]"
   ]
  },
  {
   "cell_type": "code",
   "execution_count": 26,
   "id": "c90c728d-0283-41de-9d74-939308265be2",
   "metadata": {},
   "outputs": [],
   "source": [
    "X_1_test = X1_test.reshape(m_test, 1)\n",
    "X_2_test = X2_test.reshape(m_test, 1)\n",
    "X_3_test = X3_test.reshape(m_test, 1)\n",
    "X_4_test = X4_test.reshape(m_test, 1)\n",
    "X_5_test = X5_test.reshape(m_test, 1)\n",
    "X_6_test = X6_test.reshape(m_test, 1)\n",
    "X_7_test = X7_test.reshape(m_test, 1)\n",
    "X_8_test = X8_test.reshape(m_test, 1)\n",
    "X_9_test = X9_test.reshape(m_test, 1)\n",
    "X_10_test = X10_test.reshape(m_test, 1)\n",
    "X_11_test = X11_test.reshape(m_test, 1)"
   ]
  },
  {
   "cell_type": "code",
   "execution_count": 27,
   "id": "663da88b-1b30-4d8b-8b0c-589bffdd7050",
   "metadata": {},
   "outputs": [
    {
     "data": {
      "text/plain": [
       "array([[1.0000e+00, 2.8800e+03, 3.0000e+00, 1.0000e+00, 2.0000e+00,\n",
       "        1.0000e+00, 0.0000e+00, 0.0000e+00, 0.0000e+00, 0.0000e+00,\n",
       "        0.0000e+00, 1.0000e+00],\n",
       "       [1.0000e+00, 6.0000e+03, 3.0000e+00, 2.0000e+00, 2.0000e+00,\n",
       "        1.0000e+00, 1.0000e+00, 0.0000e+00, 0.0000e+00, 1.0000e+00,\n",
       "        1.0000e+00, 0.0000e+00],\n",
       "       [1.0000e+00, 1.0269e+04, 3.0000e+00, 1.0000e+00, 1.0000e+00,\n",
       "        1.0000e+00, 0.0000e+00, 0.0000e+00, 0.0000e+00, 0.0000e+00,\n",
       "        1.0000e+00, 1.0000e+00],\n",
       "       [1.0000e+00, 5.3200e+03, 3.0000e+00, 1.0000e+00, 2.0000e+00,\n",
       "        1.0000e+00, 1.0000e+00, 1.0000e+00, 0.0000e+00, 0.0000e+00,\n",
       "        0.0000e+00, 1.0000e+00],\n",
       "       [1.0000e+00, 4.9500e+03, 4.0000e+00, 1.0000e+00, 2.0000e+00,\n",
       "        1.0000e+00, 0.0000e+00, 0.0000e+00, 0.0000e+00, 1.0000e+00,\n",
       "        0.0000e+00, 0.0000e+00]])"
      ]
     },
     "execution_count": 27,
     "metadata": {},
     "output_type": "execute_result"
    }
   ],
   "source": [
    "# Stacking X_0_test through X_11_test horizotally\n",
    "# This is the final X Matrix for validation\n",
    "\n",
    "X_test = np.hstack((X_0_test, X_1_test, X_2_test, X_3_test, X_4_test, X_5_test, X_6_test, X_7_test, X_8_test, X_9_test, X_10_test, X_11_test))\n",
    "X_test [: 5]"
   ]
  },
  {
   "cell_type": "code",
   "execution_count": 28,
   "id": "210babd7-c755-4170-8f08-b82f8f9563a7",
   "metadata": {},
   "outputs": [],
   "source": [
    "# defining function for computing the cost for linear regression\n",
    "\n",
    "def compute_cost(X, y, theta, m):\n",
    "    predictions = X.dot(theta)\n",
    "    errors = np.subtract(predictions, y)\n",
    "    sqrErrors = np.square(errors)\n",
    "    J = 1 / (2 * m) * np.sum(sqrErrors)\n",
    "    return J"
   ]
  },
  {
   "cell_type": "code",
   "execution_count": 29,
   "id": "47fc6976-9e2f-4177-b9ac-4e84151038ff",
   "metadata": {},
   "outputs": [
    {
     "data": {
      "text/plain": [
       "13238799902211.697"
      ]
     },
     "execution_count": 29,
     "metadata": {},
     "output_type": "execute_result"
    }
   ],
   "source": [
    "cost = compute_cost(X, y, theta, m)\n",
    "cost"
   ]
  },
  {
   "cell_type": "code",
   "execution_count": 30,
   "id": "53f6bcec-a95a-4b1b-817f-8f1be997d005",
   "metadata": {},
   "outputs": [],
   "source": [
    "# gradient descent algorithm\n",
    "\n",
    "def gradient_descent(X, y, theta, alpha, iterations):\n",
    "    cost_history = np.zeros(iterations)\n",
    "    cost_test = np.zeros(iterations)\n",
    "    for i in range(iterations):\n",
    "        predictions = X.dot(theta)\n",
    "        errors = np.subtract(predictions, y)\n",
    "        sum_delta = (alpha / m) * X.transpose().dot(errors);\n",
    "        theta = theta - sum_delta;\n",
    "        cost_history[i] = compute_cost(X, y, theta, m)                     # loss for training set\n",
    "        cost_test[i] = compute_cost(X_test, y_test, theta, m_test)         # loss for validation set\n",
    "    \n",
    "    return theta, cost_history, cost_test"
   ]
  },
  {
   "cell_type": "code",
   "execution_count": 44,
   "id": "e658ce10-8aff-48bd-b144-d04e9522bcb7",
   "metadata": {},
   "outputs": [],
   "source": [
    "theta = [0., 0., 0., 0., 0., 0., 0., 0., 0., 0., 0., 0.]\n",
    "iterations = 200;\n",
    "alpha = 0.00000001"
   ]
  },
  {
   "cell_type": "code",
   "execution_count": 45,
   "id": "2f731071-a105-46dc-a3e7-8095e32bd91f",
   "metadata": {},
   "outputs": [
    {
     "name": "stdout",
     "output_type": "stream",
     "text": [
      "Final value of theta= [8.64439110e-01 8.61911599e+02 3.15030693e+00 1.78128968e+00\n",
      " 2.71024998e+00 7.48158665e-01 3.07279813e-01 4.84279951e-01\n",
      " 1.42885945e-01 6.63340927e-01 6.85780551e-01 3.32226532e-01]\n",
      "cost_history = [7.17395237e+12 4.29408707e+12 2.92659610e+12 2.27724920e+12\n",
      " 1.96890975e+12 1.82249615e+12 1.75297229e+12 1.71995918e+12\n",
      " 1.70428303e+12 1.69683925e+12 1.69330459e+12 1.69162615e+12\n",
      " 1.69082912e+12 1.69045063e+12 1.69027089e+12 1.69018551e+12\n",
      " 1.69014495e+12 1.69012566e+12 1.69011648e+12 1.69011210e+12\n",
      " 1.69011000e+12 1.69010897e+12 1.69010846e+12 1.69010820e+12\n",
      " 1.69010805e+12 1.69010795e+12 1.69010789e+12 1.69010783e+12\n",
      " 1.69010778e+12 1.69010773e+12 1.69010769e+12 1.69010764e+12\n",
      " 1.69010760e+12 1.69010755e+12 1.69010751e+12 1.69010746e+12\n",
      " 1.69010742e+12 1.69010737e+12 1.69010733e+12 1.69010728e+12\n",
      " 1.69010724e+12 1.69010719e+12 1.69010715e+12 1.69010710e+12\n",
      " 1.69010706e+12 1.69010701e+12 1.69010697e+12 1.69010692e+12\n",
      " 1.69010688e+12 1.69010683e+12 1.69010679e+12 1.69010674e+12\n",
      " 1.69010670e+12 1.69010665e+12 1.69010661e+12 1.69010656e+12\n",
      " 1.69010652e+12 1.69010648e+12 1.69010643e+12 1.69010639e+12\n",
      " 1.69010634e+12 1.69010630e+12 1.69010625e+12 1.69010621e+12\n",
      " 1.69010616e+12 1.69010612e+12 1.69010607e+12 1.69010603e+12\n",
      " 1.69010598e+12 1.69010594e+12 1.69010589e+12 1.69010585e+12\n",
      " 1.69010580e+12 1.69010576e+12 1.69010571e+12 1.69010567e+12\n",
      " 1.69010562e+12 1.69010558e+12 1.69010553e+12 1.69010549e+12\n",
      " 1.69010545e+12 1.69010540e+12 1.69010536e+12 1.69010531e+12\n",
      " 1.69010527e+12 1.69010522e+12 1.69010518e+12 1.69010513e+12\n",
      " 1.69010509e+12 1.69010504e+12 1.69010500e+12 1.69010495e+12\n",
      " 1.69010491e+12 1.69010486e+12 1.69010482e+12 1.69010477e+12\n",
      " 1.69010473e+12 1.69010468e+12 1.69010464e+12 1.69010459e+12\n",
      " 1.69010455e+12 1.69010450e+12 1.69010446e+12 1.69010441e+12\n",
      " 1.69010437e+12 1.69010433e+12 1.69010428e+12 1.69010424e+12\n",
      " 1.69010419e+12 1.69010415e+12 1.69010410e+12 1.69010406e+12\n",
      " 1.69010401e+12 1.69010397e+12 1.69010392e+12 1.69010388e+12\n",
      " 1.69010383e+12 1.69010379e+12 1.69010374e+12 1.69010370e+12\n",
      " 1.69010365e+12 1.69010361e+12 1.69010356e+12 1.69010352e+12\n",
      " 1.69010347e+12 1.69010343e+12 1.69010338e+12 1.69010334e+12\n",
      " 1.69010330e+12 1.69010325e+12 1.69010321e+12 1.69010316e+12\n",
      " 1.69010312e+12 1.69010307e+12 1.69010303e+12 1.69010298e+12\n",
      " 1.69010294e+12 1.69010289e+12 1.69010285e+12 1.69010280e+12\n",
      " 1.69010276e+12 1.69010271e+12 1.69010267e+12 1.69010262e+12\n",
      " 1.69010258e+12 1.69010253e+12 1.69010249e+12 1.69010244e+12\n",
      " 1.69010240e+12 1.69010235e+12 1.69010231e+12 1.69010226e+12\n",
      " 1.69010222e+12 1.69010218e+12 1.69010213e+12 1.69010209e+12\n",
      " 1.69010204e+12 1.69010200e+12 1.69010195e+12 1.69010191e+12\n",
      " 1.69010186e+12 1.69010182e+12 1.69010177e+12 1.69010173e+12\n",
      " 1.69010168e+12 1.69010164e+12 1.69010159e+12 1.69010155e+12\n",
      " 1.69010150e+12 1.69010146e+12 1.69010141e+12 1.69010137e+12\n",
      " 1.69010132e+12 1.69010128e+12 1.69010123e+12 1.69010119e+12\n",
      " 1.69010114e+12 1.69010110e+12 1.69010106e+12 1.69010101e+12\n",
      " 1.69010097e+12 1.69010092e+12 1.69010088e+12 1.69010083e+12\n",
      " 1.69010079e+12 1.69010074e+12 1.69010070e+12 1.69010065e+12\n",
      " 1.69010061e+12 1.69010056e+12 1.69010052e+12 1.69010047e+12\n",
      " 1.69010043e+12 1.69010038e+12 1.69010034e+12 1.69010029e+12\n",
      " 1.69010025e+12 1.69010020e+12 1.69010016e+12 1.69010011e+12]\n",
      "cost_test = [6.63957624e+12 3.87471080e+12 2.60015726e+12 2.02135430e+12\n",
      " 1.76471327e+12 1.65539053e+12 1.61212173e+12 1.59753128e+12\n",
      " 1.59470697e+12 1.59619380e+12 1.59884852e+12 1.60145193e+12\n",
      " 1.60361347e+12 1.60527749e+12 1.60650702e+12 1.60739361e+12\n",
      " 1.60802323e+12 1.60846595e+12 1.60877523e+12 1.60899034e+12\n",
      " 1.60913950e+12 1.60924273e+12 1.60931406e+12 1.60936330e+12\n",
      " 1.60939727e+12 1.60942069e+12 1.60943682e+12 1.60944793e+12\n",
      " 1.60945558e+12 1.60946083e+12 1.60946444e+12 1.60946691e+12\n",
      " 1.60946861e+12 1.60946976e+12 1.60947054e+12 1.60947106e+12\n",
      " 1.60947141e+12 1.60947164e+12 1.60947178e+12 1.60947187e+12\n",
      " 1.60947191e+12 1.60947193e+12 1.60947193e+12 1.60947191e+12\n",
      " 1.60947189e+12 1.60947186e+12 1.60947183e+12 1.60947179e+12\n",
      " 1.60947175e+12 1.60947171e+12 1.60947167e+12 1.60947163e+12\n",
      " 1.60947159e+12 1.60947155e+12 1.60947150e+12 1.60947146e+12\n",
      " 1.60947142e+12 1.60947138e+12 1.60947133e+12 1.60947129e+12\n",
      " 1.60947125e+12 1.60947121e+12 1.60947116e+12 1.60947112e+12\n",
      " 1.60947108e+12 1.60947103e+12 1.60947099e+12 1.60947095e+12\n",
      " 1.60947090e+12 1.60947086e+12 1.60947082e+12 1.60947078e+12\n",
      " 1.60947073e+12 1.60947069e+12 1.60947065e+12 1.60947060e+12\n",
      " 1.60947056e+12 1.60947052e+12 1.60947048e+12 1.60947043e+12\n",
      " 1.60947039e+12 1.60947035e+12 1.60947030e+12 1.60947026e+12\n",
      " 1.60947022e+12 1.60947018e+12 1.60947013e+12 1.60947009e+12\n",
      " 1.60947005e+12 1.60947000e+12 1.60946996e+12 1.60946992e+12\n",
      " 1.60946987e+12 1.60946983e+12 1.60946979e+12 1.60946975e+12\n",
      " 1.60946970e+12 1.60946966e+12 1.60946962e+12 1.60946957e+12\n",
      " 1.60946953e+12 1.60946949e+12 1.60946945e+12 1.60946940e+12\n",
      " 1.60946936e+12 1.60946932e+12 1.60946927e+12 1.60946923e+12\n",
      " 1.60946919e+12 1.60946915e+12 1.60946910e+12 1.60946906e+12\n",
      " 1.60946902e+12 1.60946897e+12 1.60946893e+12 1.60946889e+12\n",
      " 1.60946884e+12 1.60946880e+12 1.60946876e+12 1.60946872e+12\n",
      " 1.60946867e+12 1.60946863e+12 1.60946859e+12 1.60946854e+12\n",
      " 1.60946850e+12 1.60946846e+12 1.60946842e+12 1.60946837e+12\n",
      " 1.60946833e+12 1.60946829e+12 1.60946824e+12 1.60946820e+12\n",
      " 1.60946816e+12 1.60946812e+12 1.60946807e+12 1.60946803e+12\n",
      " 1.60946799e+12 1.60946794e+12 1.60946790e+12 1.60946786e+12\n",
      " 1.60946781e+12 1.60946777e+12 1.60946773e+12 1.60946769e+12\n",
      " 1.60946764e+12 1.60946760e+12 1.60946756e+12 1.60946751e+12\n",
      " 1.60946747e+12 1.60946743e+12 1.60946739e+12 1.60946734e+12\n",
      " 1.60946730e+12 1.60946726e+12 1.60946721e+12 1.60946717e+12\n",
      " 1.60946713e+12 1.60946709e+12 1.60946704e+12 1.60946700e+12\n",
      " 1.60946696e+12 1.60946691e+12 1.60946687e+12 1.60946683e+12\n",
      " 1.60946678e+12 1.60946674e+12 1.60946670e+12 1.60946666e+12\n",
      " 1.60946661e+12 1.60946657e+12 1.60946653e+12 1.60946648e+12\n",
      " 1.60946644e+12 1.60946640e+12 1.60946636e+12 1.60946631e+12\n",
      " 1.60946627e+12 1.60946623e+12 1.60946618e+12 1.60946614e+12\n",
      " 1.60946610e+12 1.60946606e+12 1.60946601e+12 1.60946597e+12\n",
      " 1.60946593e+12 1.60946588e+12 1.60946584e+12 1.60946580e+12\n",
      " 1.60946575e+12 1.60946571e+12 1.60946567e+12 1.60946563e+12\n",
      " 1.60946558e+12 1.60946554e+12 1.60946550e+12 1.60946545e+12\n",
      " 1.60946541e+12 1.60946537e+12 1.60946533e+12 1.60946528e+12]\n"
     ]
    }
   ],
   "source": [
    "# Computing final theta values and cost/losses for training and validation set\n",
    "\n",
    "theta, cost_history, cost_test = gradient_descent(X, y, theta, alpha, iterations)\n",
    "print('Final value of theta=', theta)\n",
    "print('cost_history =', cost_history)\n",
    "print('cost_test =', cost_test)"
   ]
  },
  {
   "cell_type": "code",
   "execution_count": 34,
   "id": "b9297253-1087-4070-99c6-3b41b752993f",
   "metadata": {},
   "outputs": [
    {
     "data": {
      "text/plain": [
       "Text(0.5, 1.0, 'Convergence of Gradient Descent')"
      ]
     },
     "execution_count": 34,
     "metadata": {},
     "output_type": "execute_result"
    },
    {
     "data": {
      "image/png": "[encoded data removed]",
      "text/plain": [
       "<Figure size 720x432 with 1 Axes>"
      ]
     },
     "metadata": {
      "needs_background": "light"
     },
     "output_type": "display_data"
    }
   ],
   "source": [
    "plt.plot(range(1, iterations + 1),cost_history, color='green', label= 'Loss for Training Set')\n",
    "plt.plot(range(1, iterations + 1),cost_test, color='red', label= 'Loss for Validation Set')\n",
    "plt.rcParams[\"figure.figsize\"] = (10,6)\n",
    "plt.grid()\n",
    "plt.legend()\n",
    "plt.xlabel('Number of Iterations')\n",
    "plt.ylabel('Cost (J)')\n",
    "plt.title('Convergence of Gradient Descent')"
   ]
  }
 ],
 "metadata": {
  "kernelspec": {
   "display_name": "Python 3 (ipykernel)",
   "language": "python",
   "name": "python3"
  },
  "language_info": {
   "codemirror_mode": {
    "name": "ipython",
    "version": 3
   },
   "file_extension": ".py",
   "mimetype": "text/x-python",
   "name": "python",
   "nbconvert_exporter": "python",
   "pygments_lexer": "ipython3",
   "version": "3.9.12"
  }
 },
 "nbformat": 4,
 "nbformat_minor": 5
}
